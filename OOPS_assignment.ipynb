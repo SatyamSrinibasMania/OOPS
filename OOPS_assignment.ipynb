{
  "nbformat": 4,
  "nbformat_minor": 0,
  "metadata": {
    "colab": {
      "provenance": []
    },
    "kernelspec": {
      "name": "python3",
      "display_name": "Python 3"
    },
    "language_info": {
      "name": "python"
    }
  },
  "cells": [
    {
      "cell_type": "markdown",
      "source": [
        "#**OOPS**"
      ],
      "metadata": {
        "id": "t6QiZiAx6__R"
      }
    },
    {
      "cell_type": "markdown",
      "source": [
        "**THEORITICAL QUESTIONS**"
      ],
      "metadata": {
        "id": "3CDzcMYKNUhB"
      }
    },
    {
      "cell_type": "markdown",
      "source": [
        "**1.\tWhat is Object-Oriented Programming (OOP) ?**\n",
        "\n",
        "- **Object-Oriented Programming (OOP)** is a programming paradigm that organizes software design around data, or objects, rather than functions and logic. In OOP, objects represent real-world entities and the operations (methods) that can be performed on them. The main goal of OOP is to structure code in a way that is modular, reusable, and easier to maintain.\n",
        "\n",
        "- **There are four core principles of OOP:**\n",
        " - **Encapsulation :** This refers to bundling the data (attributes) and methods (functions) that operate on the data into a single unit, or class. It also means restricting access to some of an object's components, which can help prevent unintended interference and misuse of the data. For example, using private and public access modifiers.\n",
        "\n",
        " - **Abstraction :** Abstraction is the concept of hiding the complex implementation details and showing only the essential features of an object. It allows users to interact with an object through a simplified interface, without needing to understand the complexity behind it.\n",
        "\n",
        " - **Inheritance :** Inheritance allows a new class (subclass) to inherit properties and behaviors (methods) from an existing class (superclass). This promotes code reusability and helps to establish a relationship between different classes. For example, a Car class might inherit from a Vehicle class, gaining common properties like speed or engineType.\n",
        "\n",
        " - **Polymorphism :** Polymorphism enables objects of different classes to be treated as objects of a common superclass. The two main types of polymorphism are:\n",
        "   - **Method Overloading :** Defining multiple methods with the same name but different parameters.\n",
        "\n",
        "   - **Method Overriding :** Redefining a method in a subclass that already exists in the superclass, allowing for specialized behavior.\n",
        "\n",
        "- These principles help make code more modular, flexible, and easier to maintain. Popular OOP languages include **Java, C++, Python, and C#**."
      ],
      "metadata": {
        "id": "kDOTukgDNpFU"
      }
    },
    {
      "cell_type": "markdown",
      "source": [
        "**2.\tWhat is a class in OOP ?**\n",
        "\n",
        "- In **Object-Oriented Programming (OOP)**, a **class** is a blueprint or template for creating objects (instances). It defines the properties (also called attributes or fields) and behaviors (methods or functions) that the objects of that class will have. Essentially, a class is a way to group related data and functionality together.\n",
        "\n",
        "- **Key aspects of a class :**\n",
        "\n",
        " - **Attributes (Properties) :** These are the data or characteristics that objects of the class will have. For example, in a Car class, attributes might include color, model, and engineType.\n",
        "\n",
        " - **Methods (Behaviors) :** These are the functions or actions that objects of the class can perform. Methods define the behavior of the class. For instance, a **Car** class might have methods like **startEngine()** or **accelerate()**.\n",
        "\n",
        " - **Constructor :** A special method used to initialize objects of the class. It is called when an object is created from the class. In many languages, the constructor has the same name as the class, like **__init__** in Python or the class name in Java.\n",
        "\n",
        " - **Encapsulation :** Classes often encapsulate data and methods, meaning the internal state of an object is hidden from the outside world, and access is provided via methods. This can help protect data integrity and prevent unauthorized changes."
      ],
      "metadata": {
        "id": "v4rnL0XPNpAM"
      }
    },
    {
      "cell_type": "code",
      "source": [
        "# EXAMPLE :\n",
        "\n",
        "class Car:\n",
        "    # Constructor to initialize the object\n",
        "    def __init__(self, model, color, engine_type):\n",
        "        self.model = model        # Attribute\n",
        "        self.color = color        # Attribute\n",
        "        self.engine_type = engine_type        # Attribute\n",
        "\n",
        "    # Method to start the engine\n",
        "    def start_engine(self):\n",
        "        print(f\"{self.model} engine started.\")\n",
        "\n",
        "    # Method to accelerate the car\n",
        "    def accelerate(self):\n",
        "        print(f\"{self.model} is accelerating.\")\n",
        "\n",
        "# Creating an object (instance) of the class\n",
        "my_car = Car(\"Tesla Model 3\", \"red\", \"electric\")\n",
        "\n",
        "# Accessing attributes\n",
        "print(my_car.color)       # Output: red\n",
        "\n",
        "# Calling methods\n",
        "my_car.start_engine()  # Output: Tesla Model 3 engine started.\n",
        "my_car.accelerate()    # Output: Tesla Model 3 is accelerating."
      ],
      "metadata": {
        "colab": {
          "base_uri": "https://localhost:8080/"
        },
        "id": "euXTv6K3OvJ7",
        "outputId": "078307d9-b30f-403e-a85c-44ff80c8c1a9"
      },
      "execution_count": null,
      "outputs": [
        {
          "output_type": "stream",
          "name": "stdout",
          "text": [
            "red\n",
            "Tesla Model 3 engine started.\n",
            "Tesla Model 3 is accelerating.\n"
          ]
        }
      ]
    },
    {
      "cell_type": "markdown",
      "source": [
        "- A **class** is a template for creating objects with specific attributes and methods.\n",
        "\n",
        "- An **object** is an instance of a class.\n",
        "\n",
        "- The class defines what an object will **\"know\" (attributes)** and what it will **\"do\" (methods)**.\n",
        "\n",
        "- By using **classes**, we can create more **modular, reusable, and organized code**."
      ],
      "metadata": {
        "id": "2rCAD55FPT6z"
      }
    },
    {
      "cell_type": "markdown",
      "source": [
        "**3.\tWhat is an object in OOP ?**\n",
        "- In **Object-Oriented Programming (OOP)**, an **object** is an instance of a **class**. It represents a real-world entity or concept that we want to model in your program. An object contains both **data (attributes)** and **behavior (methods)**, which are defined by the class it is created from.\n",
        "\n",
        "- In simpler terms, while a **class** is the blueprint, an **object** is a specific instantiation of that blueprint, with its own unique data.\n",
        "\n",
        "- **Key Characteristics of an Object :**\n",
        " - **State (Attributes/Properties) :** The state of an object is represented by the values of its attributes. These are the specific characteristics that define the object at any given time. For example, a Car object may have a color, speed, and engine_type as attributes.\n",
        "\n",
        " - **Behavior (Methods/Functions) :** The behavior of an object is defined by the methods (or functions) that are part of its class. These methods describe the actions that an object can perform. For example, a Car object might have methods like accelerate() or brake().\n",
        "\n",
        " - **Identity :** Every object has a unique identity, which differentiates it from other objects, even if they have the same state. For instance, two Car objects might both be \"red\" and have \"electric engines,\" but they are still distinct because they are separate objects in memory."
      ],
      "metadata": {
        "id": "h1-0kyZUNo67"
      }
    },
    {
      "cell_type": "code",
      "source": [
        "# EXAMPLE (Creating an object of the Car class, as mentioned in the earlier example )\n",
        "\n",
        "class Car:\n",
        "    # Constructor to initialize the object\n",
        "    def __init__(self, model, color, engine_type):\n",
        "        self.model = model        # Attribute\n",
        "        self.color = color        # Attribute\n",
        "        self.engine_type = engine_type  # Attribute\n",
        "\n",
        "    # Method to start the engine\n",
        "    def start_engine(self):\n",
        "        print(f\"{self.model} engine started.\")\n",
        "\n",
        "    # Method to accelerate the car\n",
        "    def accelerate(self):\n",
        "        print(f\"{self.model} is accelerating.\")\n",
        "\n",
        "# Creating an object (instance) of the Car class\n",
        "my_car = Car(\"Tesla Model 3\", \"red\", \"electric\")\n",
        "\n",
        "# The object `my_car` now represents a specific car with its own state and behaviors.\n",
        "\n",
        "# Accessing attributes\n",
        "print(my_car.color)    # Output: red\n",
        "\n",
        "# Calling methods\n",
        "my_car.start_engine()  # Output: Tesla Model 3 engine started.\n",
        "my_car.accelerate()    # Output: Tesla Model 3 is accelerating.\n"
      ],
      "metadata": {
        "colab": {
          "base_uri": "https://localhost:8080/"
        },
        "id": "Nm9JulNdV4su",
        "outputId": "1e516944-25d7-42f4-f647-fded823796a5"
      },
      "execution_count": null,
      "outputs": [
        {
          "output_type": "stream",
          "name": "stdout",
          "text": [
            "red\n",
            "Tesla Model 3 engine started.\n",
            "Tesla Model 3 is accelerating.\n"
          ]
        }
      ]
    },
    {
      "cell_type": "markdown",
      "source": [
        "- **Object :** An object is an instantiation of a class. It has specific values for its attributes and can perform actions using its methods.\n",
        "\n",
        "- **Attributes :** Each object has its own set of attributes (e.g., color, model).\n",
        "\n",
        "- **Methods :** The object can perform behaviors (e.g., accelerate(), start_engine()), which are defined by its class.\n",
        "  \n",
        "- In **OOP**, objects are central because they allow us to model real-world systems and interactions, making it easier to create reusable and maintainable code."
      ],
      "metadata": {
        "id": "g4-c6jPmWZVm"
      }
    },
    {
      "cell_type": "markdown",
      "source": [
        "**4.\tWhat is the difference between abstraction and encapsulation ?**\n",
        "\n",
        "- In **Object-Oriented Programming (OOP)**, **abstraction** and **encapsulation** are two fundamental concepts that help in managing complexity and improving code organization. While they are closely related, they have distinct purposes and focus on different aspects of object design.\n",
        "\n",
        "- **Abstraction :**\n",
        " - Abstraction refers to **hiding the complexity** of an object and exposing only the essential features to the user. The goal is to simplify interactions with the object by providing a clear interface and hiding implementation details that are not necessary for the user to know.\n",
        "\n",
        " - The purpose of **Abstraction** is to reduce complexity by focusing on what an object does, not how it does it.\n",
        "\n",
        " - By defining abstract interfaces (methods) that describe the behavior of an object, while hiding the implementation details of those behaviors."
      ],
      "metadata": {
        "id": "pHJdHTQrNo18"
      }
    },
    {
      "cell_type": "code",
      "source": [
        "# EXAMPLE (Abstraction)\n",
        "\n",
        "# Let's think of an abstract class or an interface in a system. A user doesn't need to know how a Car class accelerates, only that the Car class has an accelerate() method.\n",
        "\n",
        "from abc import ABC, abstractmethod\n",
        "\n",
        "class Vehicle(ABC):\n",
        "    @abstractmethod\n",
        "    def accelerate(self):\n",
        "        pass\n",
        "\n",
        "class Car(Vehicle):\n",
        "    def accelerate(self):\n",
        "        print(\"Car is accelerating\")\n",
        "\n",
        "# Client code interacts with the abstract class `Vehicle` and doesn't need to know the details of how `accelerate()` works.\n",
        "my_car = Car()\n",
        "my_car.accelerate()     # Output: Car is accelerating\n"
      ],
      "metadata": {
        "colab": {
          "base_uri": "https://localhost:8080/"
        },
        "id": "teXjlj97YHdu",
        "outputId": "04b43d86-1b4c-45c2-c7f3-1c42d3bbbc81"
      },
      "execution_count": null,
      "outputs": [
        {
          "output_type": "stream",
          "name": "stdout",
          "text": [
            "Car is accelerating\n"
          ]
        }
      ]
    },
    {
      "cell_type": "markdown",
      "source": [
        "- **Encapsulation :**\n",
        " - **Encapsulation** refers to **bundling** the data (attributes) and the methods (functions) that operate on that data into a single unit (the class). It also involves **restricting access** to certain components of an object to ensure that data is protected from unintended or unauthorized modification.\n",
        "\n",
        "- The purpose of **Encapsulation** is to protect the internal state of an object and prevent external interference by controlling access to its attributes.\n",
        "\n",
        "- By using access modifiers (such as private, protected, or public) and providing methods to access or modify the internal data. The goal is to maintain the integrity of an object's state."
      ],
      "metadata": {
        "id": "4JN2efDGYp-l"
      }
    },
    {
      "cell_type": "code",
      "source": [
        "# EXAMPLE (Encapsulation)\n",
        "\n",
        "# The Car class might have a private attribute like fuel_level and provide public methods like refuel() to change that attribute in a controlled manner\n",
        "\n",
        "class Car:\n",
        "    def __init__(self, fuel_level):\n",
        "        self.__fuel_level = fuel_level     # Private attribute (encapsulation)\n",
        "\n",
        "    def refuel(self, amount):\n",
        "        if amount > 0:\n",
        "            self.__fuel_level += amount\n",
        "            print(f\"Refueled {amount} liters. Current fuel: {self.__fuel_level}\")\n",
        "        else:\n",
        "            print(\"Invalid refuel amount.\")\n",
        "\n",
        "    def get_fuel_level(self):\n",
        "        return self.__fuel_level     # Accessor method to get private data\n",
        "\n",
        "# The fuel level is encapsulated and cannot be directly modified outside the class\n",
        "my_car = Car(50)\n",
        "print(my_car.get_fuel_level())      # Output: 50\n",
        "my_car.refuel(10)                   # Output: Refueled 10 liters. Current fuel: 60"
      ],
      "metadata": {
        "colab": {
          "base_uri": "https://localhost:8080/"
        },
        "id": "R-c20I4tZNPN",
        "outputId": "a65c1c21-59a0-4798-cc41-bb8d046bc75e"
      },
      "execution_count": null,
      "outputs": [
        {
          "output_type": "stream",
          "name": "stdout",
          "text": [
            "50\n",
            "Refueled 10 liters. Current fuel: 60\n"
          ]
        }
      ]
    },
    {
      "cell_type": "markdown",
      "source": [
        "- In short,\n",
        " - **Abstraction** is about focusing on the essential features (what an object can do) and hiding the details (how it does it).\n",
        "\n",
        " - **Encapsulation** is about bundling data and methods together while restricting direct access to the data to protect its integrity.\n",
        "\n",
        " - Both concepts help in creating **clean, maintainable, and robust object-oriented designs**, but they serve different purposes in managing complexity and data access."
      ],
      "metadata": {
        "id": "F_AB-TsGaHzt"
      }
    },
    {
      "cell_type": "markdown",
      "source": [
        "**5.\tWhat are dunder methods in Python ?**\n",
        "\n",
        "- In Python, **\"dunder methods\" (short for \"double underscore methods\")** are special methods that have double underscores before and after their names. They are also known as **magic methods** or **special methods**. These methods allow us to define behavior for basic operations and interactions with objects.\n",
        "\n",
        "- **For example,** if we define a class and want it to behave in certain ways when used with built-in operators, we can implement the appropriate dunder methods. They allow Python to know how to perform things like addition, string representation, or comparisons for our custom objects.\n",
        "\n",
        "- **Here are some common dunder methods :**\n",
        "\n",
        " - **__init__(self) :** The initializer method (constructor). Called when a new instance of the class is created."
      ],
      "metadata": {
        "id": "hdu8iBefakQc"
      }
    },
    {
      "cell_type": "code",
      "source": [
        "# EXAMPLE : init(self)\n",
        "\n",
        "class Person:\n",
        "       def __init__(self, name):\n",
        "           self.name = name"
      ],
      "metadata": {
        "id": "7lukfU_5apBE"
      },
      "execution_count": null,
      "outputs": []
    },
    {
      "cell_type": "markdown",
      "source": [
        "- - **__str__(self) :** Called by the **str()** function and the **print()** function to represent the object as a string."
      ],
      "metadata": {
        "id": "MCaSfduhNowE"
      }
    },
    {
      "cell_type": "code",
      "source": [
        "# EXAMPLE : str(self)\n",
        "\n",
        "class Person:\n",
        "  def __str__(self):\n",
        "    return f\"Person named {self.name}\""
      ],
      "metadata": {
        "id": "ZKq4BkMratTc"
      },
      "execution_count": null,
      "outputs": []
    },
    {
      "cell_type": "markdown",
      "source": [
        "- - **__repr__(self) :** Similar to **__str__**, but intended for a more unambiguous or technical representation of the object (often used in debugging)."
      ],
      "metadata": {
        "id": "NCDV1_XONord"
      }
    },
    {
      "cell_type": "code",
      "source": [
        "# EXAMPLE ; repr(self)\n",
        "\n",
        "class Person:\n",
        "  def __repr__(self):\n",
        "        return f\"Person('{self.name}')\""
      ],
      "metadata": {
        "id": "XbZY_lnAa30d"
      },
      "execution_count": null,
      "outputs": []
    },
    {
      "cell_type": "markdown",
      "source": [
        "- - **__add__(self, other) :** Defines behavior for the addition operator (+)."
      ],
      "metadata": {
        "id": "2L0hyk7nNolj"
      }
    },
    {
      "cell_type": "code",
      "source": [
        "# EXAMPLE : add(self, other)\n",
        "\n",
        "class Point:\n",
        "  def __init__(self, x, y):\n",
        "    self.x = x\n",
        "    self.y = y\n",
        "\n",
        "  def __add__(self, other):\n",
        "    return Point(self.x + other.x, self.y + other.y)"
      ],
      "metadata": {
        "id": "IWbiRXAqbAbG"
      },
      "execution_count": null,
      "outputs": []
    },
    {
      "cell_type": "markdown",
      "source": [
        "- - **__eq__(self, other) :** Defines behavior for equality comparison (==)."
      ],
      "metadata": {
        "id": "qVb5Zur1Nof2"
      }
    },
    {
      "cell_type": "code",
      "source": [
        "# EXAMPLE : eq(self, other)\n",
        "\n",
        "class Person:\n",
        "  def __eq__(self, other):\n",
        "    return self.name == other.name"
      ],
      "metadata": {
        "id": "VQ25ohsEbMPm"
      },
      "execution_count": null,
      "outputs": []
    },
    {
      "cell_type": "markdown",
      "source": [
        "- - **__len__(self) :** Called by the **len()** function to get the length of the object."
      ],
      "metadata": {
        "id": "t2J03w-ybPEP"
      }
    },
    {
      "cell_type": "code",
      "source": [
        "# EXAMPLE : len(self)\n",
        "\n",
        "class MyList:\n",
        "  def __init__(self, items):\n",
        "    self.items = items\n",
        "\n",
        "  def __len__(self):\n",
        "    return len(self.items)"
      ],
      "metadata": {
        "id": "A8BZTap1bSAc"
      },
      "execution_count": null,
      "outputs": []
    },
    {
      "cell_type": "markdown",
      "source": [
        "- - **__getitem__(self, key) :** Called to get an item from the object (like obj[key])."
      ],
      "metadata": {
        "id": "1u99uKNnbbZ1"
      }
    },
    {
      "cell_type": "code",
      "source": [
        "# EXAMPLE : getitem(self, key)\n",
        "\n",
        "class MyList:\n",
        "  def __getitem__(self, key):\n",
        "    return self.items[key]"
      ],
      "metadata": {
        "id": "yGkzZovGbehN"
      },
      "execution_count": null,
      "outputs": []
    },
    {
      "cell_type": "markdown",
      "source": [
        "- - **__setitem__(self, key, value) :** Called to set an item in the object (like obj[key] = value)."
      ],
      "metadata": {
        "id": "gtPcddoPbhdE"
      }
    },
    {
      "cell_type": "code",
      "source": [
        "# EXAMPLE : setitem(self, key, value)\n",
        "\n",
        "class MyList:\n",
        "       def __setitem__(self, key, value):\n",
        "           self.items[key] = value"
      ],
      "metadata": {
        "id": "q-XR3VZCbm1s"
      },
      "execution_count": null,
      "outputs": []
    },
    {
      "cell_type": "markdown",
      "source": [
        "- These methods enable our objects to interact with Python's syntax and built-in operations in a more natural and intuitive way."
      ],
      "metadata": {
        "id": "JA-9dLVQbswM"
      }
    },
    {
      "cell_type": "markdown",
      "source": [
        "**6.\tExplain the concept of inheritance in OOP.**\n",
        "\n",
        "- **Inheritance** is one of the core principles of **Object-Oriented Programming (OOP)**, allowing a class (called a **subclass** or **child class**) to inherit attributes and methods from another class (called a **superclass** or **parent class**). This concept enables code reuse and establishes a relationship between classes, promoting modularity and reducing redundancy.\n",
        "\n",
        "- **How Inheritance works :**\n",
        " - **Basic Concept :**\n",
        "   - A **child class** inherits all non-private attributes and methods from a **parent class**.\n",
        "   \n",
        "   - The child class can add its own methods and attributes or override (or **extend**) methods of the parent class."
      ],
      "metadata": {
        "id": "5Z-MLGJENoam"
      }
    },
    {
      "cell_type": "code",
      "source": [
        "# Syntax :\n",
        "   # In Python, we define inheritance by passing the parent class as an argument to the child class.\n",
        "\n",
        "class Parent:\n",
        "  def speak(self):\n",
        "    print(\"I am a parent.\")\n",
        "\n",
        "class Child(Parent):\n",
        "  def play(self):\n",
        "     print(\"I am playing.\")\n",
        "\n",
        "# In this example, the Child class inherits from the Parent class, which means the Child class has access to the speak() method from Parent."
      ],
      "metadata": {
        "id": "kVOesAUAgNWc"
      },
      "execution_count": null,
      "outputs": []
    },
    {
      "cell_type": "markdown",
      "source": [
        "- - **Benefits of Inheritance :**\n",
        "   - **Code Reusability :** The child class can reuse the code from the parent class, preventing code duplication.\n",
        "\n",
        "   - **Extensibility :** We can add or modify features in the child class without changing the parent class.\n",
        "\n",
        "   - **Hierarchical Organization :** It allows us to organize classes in a logical and hierarchical way, reflecting real-world relationships (e.g., Dog is a subclass of Animal)."
      ],
      "metadata": {
        "id": "5cPgAsRDgv9U"
      }
    },
    {
      "cell_type": "markdown",
      "source": [
        "- **Types of Inheritance :**\n",
        " - **Single Inheritance :** A class inherits from only one parent class.[link text](https://)"
      ],
      "metadata": {
        "id": "pnO829n6hYuj"
      }
    },
    {
      "cell_type": "code",
      "source": [
        "# EXAMPLE (Single Inheritance)\n",
        "\n",
        "class Animal:\n",
        "       def speak(self):\n",
        "           print(\"Animal makes a sound.\")\n",
        "\n",
        "class Dog(Animal):\n",
        "  def bark(self):\n",
        "    print(\"Woof!\")"
      ],
      "metadata": {
        "id": "c54Bt31ZhaG6"
      },
      "execution_count": null,
      "outputs": []
    },
    {
      "cell_type": "markdown",
      "source": [
        "- - **Multiple Inheritance :** A class inherits from more than one parent class. This can be powerful but needs to be used carefully to avoid complexity or conflicts (such as the **diamond problem**)."
      ],
      "metadata": {
        "id": "76ZIXSbCNoU0"
      }
    },
    {
      "cell_type": "code",
      "source": [
        "# EXAMPLE (Multiple Inheritance)\n",
        "\n",
        "class Animal:\n",
        "       def eat(self):\n",
        "           print(\"Eating food.\")\n",
        "\n",
        "class Swimmer:\n",
        "  def swim(self):\n",
        "    print(\"Swimming in water.\")\n",
        "\n",
        "class Fish(Animal, Swimmer):\n",
        "  pass"
      ],
      "metadata": {
        "id": "s75EmDUAjTwc"
      },
      "execution_count": null,
      "outputs": []
    },
    {
      "cell_type": "markdown",
      "source": [
        "- - **Multi-level Inheritance :** A class can inherit from a child class, which in turn inherits from a parent class."
      ],
      "metadata": {
        "id": "JOVOD-XVj37S"
      }
    },
    {
      "cell_type": "code",
      "source": [
        "# EXAMPLE (Multi-level Inheritance)\n",
        "\n",
        "class Animal:\n",
        "  def eat(self):\n",
        "    print(\"Eating food.\")\n",
        "\n",
        "class Mammal(Animal):\n",
        "  def walk(self):\n",
        "    print(\"Walking on land.\")\n",
        "\n",
        "class Dog(Mammal):\n",
        "  def bark(self):\n",
        "    print(\"Woof!\")"
      ],
      "metadata": {
        "id": "WoPeLHuzkBQc"
      },
      "execution_count": null,
      "outputs": []
    },
    {
      "cell_type": "markdown",
      "source": [
        "- - **Hierarchical Inheritance :** Multiple classes inherit from a single parent class."
      ],
      "metadata": {
        "id": "LdWTLukDNoPb"
      }
    },
    {
      "cell_type": "code",
      "source": [
        "# EXAMPLE (Hierarchical Inheritance)\n",
        "\n",
        "class Animal:\n",
        "    def eat(self):\n",
        "        print(\"Eating food.\")\n",
        "\n",
        "class Dog(Animal):\n",
        "    def bark(self):\n",
        "        print(\"Woof!\")\n",
        "\n",
        "class Cat(Animal):\n",
        "    def meow(self):\n",
        "        print(\"Meow!\")"
      ],
      "metadata": {
        "id": "VH7T2mv3kkqa"
      },
      "execution_count": null,
      "outputs": []
    },
    {
      "cell_type": "markdown",
      "source": [
        "- **Method Overriding and super() :**\n",
        " - When a child class has a method with the same name as a method in its parent class, it can **override** that method. This allows the child class to provide its own version of the method."
      ],
      "metadata": {
        "id": "cFAQ_C3HlFfi"
      }
    },
    {
      "cell_type": "code",
      "source": [
        "# EXAMPLE (Overriding)\n",
        "\n",
        "class Parent:\n",
        "    def greet(self):\n",
        "      print(\"Hello from Parent!\")\n",
        "\n",
        "class Child(Parent):\n",
        "    def greet(self):\n",
        "      print(\"Hello from Child!\")"
      ],
      "metadata": {
        "id": "bu_n-igulWV7"
      },
      "execution_count": null,
      "outputs": []
    },
    {
      "cell_type": "markdown",
      "source": [
        "- - We can call the method from the parent class using the **super()** function, which helps us avoid completely overriding behavior if we still want to use the parent class's method in the child class."
      ],
      "metadata": {
        "id": "CYgK626ylsGq"
      }
    },
    {
      "cell_type": "code",
      "source": [
        "class Child(Parent):\n",
        "       def greet(self):\n",
        "           super().greet()      # Call Parent's greet method\n",
        "           print(\"Hello from Child!\")"
      ],
      "metadata": {
        "id": "OuLfH3vbl1eK"
      },
      "execution_count": null,
      "outputs": []
    },
    {
      "cell_type": "markdown",
      "source": [
        "- **Polymorphism and Inheritance :**\n",
        " - Polymorphism is the ability for different classes to define methods with the same name but potentially different implementations. In inheritance, polymorphism lets us call a method on an object of a child class, and the correct method is called based on the object's class, not the type of the reference."
      ],
      "metadata": {
        "id": "yPOeTXFkNoJz"
      }
    },
    {
      "cell_type": "code",
      "source": [
        "# EXAMPLE (Polymorphism and Inheritance)\n",
        "\n",
        "class Animal:\n",
        "    def speak(self):\n",
        "        raise NotImplementedError(\"Subclass must implement abstract method.\")\n",
        "\n",
        "class Dog(Animal):\n",
        "    def speak(self):\n",
        "        return \"Woof!\"\n",
        "\n",
        "class Cat(Animal):\n",
        "    def speak(self):\n",
        "        return \"Meow!\"\n",
        "\n",
        "def animal_sound(animal):\n",
        "    print(animal.speak())\n",
        "\n",
        "dog = Dog()\n",
        "cat = Cat()\n",
        "\n",
        "animal_sound(dog)  # Outputs: Woof!\n",
        "animal_sound(cat)  # Outputs: Meow!"
      ],
      "metadata": {
        "colab": {
          "base_uri": "https://localhost:8080/"
        },
        "id": "pRO4yYMXmUip",
        "outputId": "a17e3acd-713b-41d4-c8a3-b37cd9b1574e"
      },
      "execution_count": null,
      "outputs": [
        {
          "output_type": "stream",
          "name": "stdout",
          "text": [
            "Woof!\n",
            "Meow!\n"
          ]
        }
      ]
    },
    {
      "cell_type": "markdown",
      "source": [
        "**7.\tWhat is polymorphism in OOP ?**\n",
        "- **Polymorphism** is a fundamental concept in **Object-Oriented Programming (OOP)** that allows objects of different classes to be treated as objects of a common superclass. The term comes from Greek words meaning **\"many shapes\"** or **\"many forms\"**.\n",
        "\n",
        "- Polymorphism enables a single method or function to operate on different types of objects, allowing different classes to provide their own specific implementations of a shared interface or method.\n",
        "\n",
        "- **There are two primary types of polymorphism in OOP :**\n",
        "\n",
        " - **Method Overriding (Runtime Polymorphism) :**\n",
        "   This occurs when a subclass provides its own specific implementation of a method that is already defined in its superclass. The method in the subclass **\"overrides\"** the method in the parent class, and the version of the method that gets called depends on the **type of the object** at runtime."
      ],
      "metadata": {
        "id": "0igHXxJyNoEj"
      }
    },
    {
      "cell_type": "code",
      "source": [
        "# EXAMPLE : Method Overriding (Runtime Polymorphism)\n",
        "\n",
        "class Animal:\n",
        "       def speak(self):\n",
        "           print(\"The animal makes a sound.\")\n",
        "\n",
        "class Dog(Animal):\n",
        "    def speak(self):\n",
        "        print(\"Woof!\")\n",
        "\n",
        "class Cat(Animal):\n",
        "    def speak(self):\n",
        "        print(\"Meow!\")\n",
        "\n",
        "# Polymorphism in action\n",
        "def animal_sound(animal):\n",
        "    animal.speak()\n",
        "\n",
        "dog = Dog()\n",
        "cat = Cat()\n",
        "\n",
        "animal_sound(dog)  # Output: Woof!\n",
        "animal_sound(cat)  # Output: Meow!\n",
        "\n",
        "\n",
        "# In the example above, even though animal_sound() expects an Animal object, the method speak() behaves differently depending on whether the object is of type Dog or Cat. This is *runtime polymorphism* because the method that gets called is determined at runtime based on the object's actual type.\n"
      ],
      "metadata": {
        "colab": {
          "base_uri": "https://localhost:8080/"
        },
        "id": "2P_U0Z8onQsC",
        "outputId": "70f3f59d-f1ae-423c-8b78-ef603c4d5c3a"
      },
      "execution_count": null,
      "outputs": [
        {
          "output_type": "stream",
          "name": "stdout",
          "text": [
            "Woof!\n",
            "Meow!\n"
          ]
        }
      ]
    },
    {
      "cell_type": "markdown",
      "source": [
        "- - **Method Overloading (Compile-time Polymorphism) (Not directly supported in Python, but can be simulated) :** This occurs when multiple methods have the same name but differ in the number or types of their parameters. The version of the method that gets called depends on the method signature (number of arguments, types of arguments, etc.) used at compile time. While **method overloading** is not natively supported in Python (because Python doesn't distinguish methods based on the number or types of arguments), it can be simulated by using default arguments or variable-length arguments."
      ],
      "metadata": {
        "id": "5arC8KNeNn_U"
      }
    },
    {
      "cell_type": "code",
      "source": [
        "# EXAMPLE : Method Overloading (Compile-time Polymorphism)\n",
        "\n",
        "class Printer:\n",
        "       def print_message(self, message=None, count=1):\n",
        "           if message is None:\n",
        "               print(\"No message provided.\")\n",
        "           else:\n",
        "               for _ in range(count):\n",
        "                   print(message)\n",
        "\n",
        "printer = Printer()\n",
        "printer.print_message(\"Hello!\")    # Output: Hello!\n",
        "printer.print_message(\"Hello!\", 3)    # Output: Hello! (printed 3 times)\n",
        "\n",
        "# Here, the print_message method behaves differently based on the number of arguments passed. This is a way of simulating overloading in Python, even though the method technically isn't overloaded."
      ],
      "metadata": {
        "colab": {
          "base_uri": "https://localhost:8080/"
        },
        "id": "rB2hfHxdonvB",
        "outputId": "371f748e-959f-4cd7-d388-bd72b7bae24e"
      },
      "execution_count": null,
      "outputs": [
        {
          "output_type": "stream",
          "name": "stdout",
          "text": [
            "Hello!\n",
            "Hello!\n",
            "Hello!\n",
            "Hello!\n"
          ]
        }
      ]
    },
    {
      "cell_type": "markdown",
      "source": [
        "- **Key Concepts of Polymorphism :**\n",
        " - **Interface or Method Sharing :** Different classes share a common interface (i.e., they implement the same method name but with different implementations).\n",
        "\n",
        " - **Dynamic Dispatch :** At runtime, the method call is dispatched to the appropriate method based on the object's actual type (this is **runtime polymorphism**).\n",
        "\n",
        " - **Code Flexibility and Reusability :** We can write functions or methods that can work with objects of different types, leading to more flexible and reusable code.\n",
        "\n",
        "- **Advantages of Polymorphism :**\n",
        " - **Simplifies Code :** Polymorphism helps us to write more generic and simplified code. For example, we can create a function that operates on objects of different types without needing to know the exact type of the object in advance.\n",
        "\n",
        " - **Extensibility :** When new classes are introduced, they can be seamlessly integrated into existing systems without modifying the code that uses polymorphism. We simply extend the class and override the relevant methods.\n",
        "\n",
        " - **Cleaner and More Maintainable Code :** By relying on polymorphism, our code is more modular and easier to maintain. We can modify or extend the behavior of individual objects without altering the rest of the system.\n",
        "\n",
        "- **Example with Animal Hierarchy :**\n",
        " - To further illustrate the concept of polymorphism, here's an example with an animal hierarchy :"
      ],
      "metadata": {
        "id": "uuNphw-nNn5n"
      }
    },
    {
      "cell_type": "code",
      "source": [
        "# EXAMPLE : Polymorphism (Animal Hierarchy)\n",
        "\n",
        "class Animal:\n",
        "    def make_sound(self):\n",
        "        raise NotImplementedError(\"Subclass must implement abstract method\")\n",
        "\n",
        "class Dog(Animal):\n",
        "    def make_sound(self):\n",
        "        return \"Bark\"\n",
        "\n",
        "class Cat(Animal):\n",
        "    def make_sound(self):\n",
        "        return \"Meow\"\n",
        "\n",
        "class Cow(Animal):\n",
        "    def make_sound(self):\n",
        "        return \"Moo\"\n",
        "\n",
        "# Polymorphism in action\n",
        "def animal_sound(animal: Animal):\n",
        "    print(animal.make_sound())\n",
        "\n",
        "# Creating objects of different types\n",
        "dog = Dog()\n",
        "cat = Cat()\n",
        "cow = Cow()\n",
        "\n",
        "# Calling the same method on different types\n",
        "animal_sound(dog)  # Output: Bark\n",
        "animal_sound(cat)  # Output: Meow\n",
        "animal_sound(cow)  # Output: Moo"
      ],
      "metadata": {
        "colab": {
          "base_uri": "https://localhost:8080/"
        },
        "id": "lINkMxjjqU_J",
        "outputId": "08f54840-dca4-49b8-d035-8ed1298f882a"
      },
      "execution_count": null,
      "outputs": [
        {
          "output_type": "stream",
          "name": "stdout",
          "text": [
            "Bark\n",
            "Meow\n",
            "Moo\n"
          ]
        }
      ]
    },
    {
      "cell_type": "markdown",
      "source": [
        "- Here,\n",
        " -  We have a common method **make_sound()** defined in the Animal class.\n",
        "\n",
        " - Each subclass (Dog, Cat, and Cow) provides its own implementation of **make_sound()**.\n",
        "\n",
        " - When we call **animal_sound(dog)**, **animal_sound(cat)**, or **animal_sound(cow)**, the appropriate method is invoked for each object, depending on its actual class."
      ],
      "metadata": {
        "id": "0rBTbEkhNnzm"
      }
    },
    {
      "cell_type": "markdown",
      "source": [
        "**8.\tHow is encapsulation achieved in Python ?**\n",
        "\n",
        "- **Encapsulation** is another fundamental concept in **Object-Oriented Programming (OOP)**, and it refers to the practice of **restricting access** to certain details of an object's implementation, while exposing only necessary parts of it. In simpler terms, encapsulation allows us to bundle the data (attributes) and the methods that operate on that data into a single unit (class), and control the access to the internal state of the object by restricting direct access to its attributes.\n",
        "\n",
        "- In Python, encapsulation is achieved by using access control mechanisms, which are based on the **visibility** of object attributes and methods. While Python doesn't have strict access modifiers like some other languages (e.g., private, protected, public in Java), it relies on naming conventions and the property function to control access.\n",
        "\n",
        "- **Key Concepts of Encapsulation :**\n",
        " - **Public Members :** Attributes and methods that are meant to be accessed from outside the class.\n",
        "\n",
        " - **Protected Members :** Attributes and methods that are intended for internal use within the class or subclasses. In Python, these are indicated by a single underscore _ before their names (though this is just a convention and does not enforce privacy).\n",
        "\n",
        " - **Private Members :** Attributes and methods that should not be accessed directly from outside the class. In Python, these are indicated by double underscores __ before their names. This triggers **name mangling**, where Python internally changes the name of the attribute to make it more difficult to access directly.\n",
        "\n",
        "- **How Encapsulation is Achieved in Python :**\n",
        " - **Public Access :** By default, attributes and methods are **public**, meaning they can be accessed directly from outside the class."
      ],
      "metadata": {
        "id": "AdX6R2-MNntl"
      }
    },
    {
      "cell_type": "code",
      "source": [
        "# EXAMPLE (Public Access)\n",
        "\n",
        "class Car:\n",
        "    def __init__(self, model, year):\n",
        "        self.model = model  # public attribute\n",
        "        self.year = year    # public attribute\n",
        "\n",
        "    def display_info(self):\n",
        "        print(f\"Model: {self.model}, Year: {self.year}\")\n",
        "\n",
        "# Usage\n",
        "car = Car(\"Toyota\", 2022)\n",
        "print(car.model)  # Accessing public attribute\n",
        "car.display_info()  # Accessing public method"
      ],
      "metadata": {
        "colab": {
          "base_uri": "https://localhost:8080/"
        },
        "id": "xiL2AQgds9hn",
        "outputId": "423f18b6-bfe5-4645-ec8e-84b04162b7bd"
      },
      "execution_count": null,
      "outputs": [
        {
          "output_type": "stream",
          "name": "stdout",
          "text": [
            "Toyota\n",
            "Model: Toyota, Year: 2022\n"
          ]
        }
      ]
    },
    {
      "cell_type": "markdown",
      "source": [
        "- - **Protected Access :** Attributes or methods with a single underscore _ before their names are **protected**. This is just a convention to indicate that these should not be accessed directly outside the class, but it is not enforced by Python. They are still technically accessible."
      ],
      "metadata": {
        "id": "P6B3p7kCNnnR"
      }
    },
    {
      "cell_type": "code",
      "source": [
        "# EXAMPLE (Protected Access)\n",
        "\n",
        "class Car:\n",
        "    def __init__(self, model, year):\n",
        "        self._model = model  # protected attribute\n",
        "        self._year = year    # protected attribute\n",
        "\n",
        "    def display_info(self):\n",
        "        print(f\"Model: {self._model}, Year: {self._year}\")\n",
        "\n",
        "car = Car(\"Toyota\", 2022)\n",
        "print(car._model)  # Technically accessible, but should be avoided\n",
        "\n",
        "# Note : Python uses this convention to suggest that these members are intended for internal use, but this is not a strict enforcement."
      ],
      "metadata": {
        "colab": {
          "base_uri": "https://localhost:8080/"
        },
        "id": "zWVwzkxAt0qm",
        "outputId": "d5876647-46b5-4d03-844e-16a64fc0fe9a"
      },
      "execution_count": null,
      "outputs": [
        {
          "output_type": "stream",
          "name": "stdout",
          "text": [
            "Toyota\n"
          ]
        }
      ]
    },
    {
      "cell_type": "markdown",
      "source": [
        "- - **Private Access :** Attributes and methods with **double underscores** __ are **private**. This triggers **name mangling**, where Python changes the name of the attribute to **_ClassName__AttributeName**. The idea is to make it harder (but not impossible) to access these attributes directly from outside the class."
      ],
      "metadata": {
        "id": "tSbrbLtWNngW"
      }
    },
    {
      "cell_type": "code",
      "source": [
        "# EXAMPLE (Private Access)\n",
        "\n",
        "class Car:\n",
        "    def __init__(self, model, year):\n",
        "      self.__model = model  # private attribute\n",
        "      self.__year = year    # private attribute\n",
        "\n",
        "    def display_info(self):\n",
        "        print(f\"Model: {self.__model}, Year: {self.__year}\")\n",
        "\n",
        "car = Car(\"Toyota\", 2022)\n",
        "\n",
        "# print(car.__model)  # This will raise an AttributeError\n",
        "\n",
        "print(car._Car__model)  # Accessing private attribute through name mangling (not recommended)"
      ],
      "metadata": {
        "colab": {
          "base_uri": "https://localhost:8080/"
        },
        "id": "_UnTHI6rvAmV",
        "outputId": "36e9db4b-0111-4760-e2cd-057a8792600c"
      },
      "execution_count": null,
      "outputs": [
        {
          "output_type": "stream",
          "name": "stdout",
          "text": [
            "Toyota\n"
          ]
        }
      ]
    },
    {
      "cell_type": "markdown",
      "source": [
        "- - - **Name Mangling :** In the example above, trying to directly access car.____model will result in an AttributeError because the attribute is private. However, we can access it using the name-mangled version car._Car_______model, although this is not recommended, as it breaks the encapsulation principle."
      ],
      "metadata": {
        "id": "NW7ZSdy_NnZl"
      }
    },
    {
      "cell_type": "markdown",
      "source": [
        "- - **Using Property Decorators for Encapsulation :**\n",
        "Python provides a property decorator that allows us to define getter, setter, and deleter methods for an attribute, giving us the control over how an attribute is accessed and modified. This is a more formal way of implementing encapsulation by hiding the internal state and providing controlled access."
      ],
      "metadata": {
        "id": "orUYLwKTNnSV"
      }
    },
    {
      "cell_type": "code",
      "source": [
        "# EXAMPLE (Using Property Decorators for Encapsulation)\n",
        "\n",
        "class Car:\n",
        "       def __init__(self, model, year):\n",
        "           self._model = model\n",
        "           self._year = year\n",
        "\n",
        "       @property\n",
        "       def model(self):\n",
        "           return self._model  # Getter method for model\n",
        "\n",
        "       @model.setter\n",
        "       def model(self, value):\n",
        "           if len(value) > 3:  # Example validation\n",
        "               self._model = value\n",
        "           else:\n",
        "               print(\"Model name is too short.\")\n",
        "\n",
        "       @property\n",
        "       def year(self):\n",
        "           return self._year  # Getter method for year\n",
        "\n",
        "       @year.setter\n",
        "       def year(self, value):\n",
        "           if value >= 2000:  # Example validation\n",
        "               self._year = value\n",
        "           else:\n",
        "               print(\"Invalid year.\")\n",
        "\n",
        "car = Car(\"Toyota\", 2022)\n",
        "print(car.model)  # Accessing through getter\n",
        "car.model = \"Ford\"  # Accessing through setter\n",
        "print(car.model)\n",
        "\n",
        "car.year = 1995  # Will print an error message (invalid year)\n",
        "\n",
        "# In this example:\n",
        "   # The model and year attributes are accessed through getter and setter methods.\n",
        "   # The setter methods allow us to validate or modify the data before setting it.\n",
        "   # This provides a controlled way to interact with an object's internal state, which is the core idea of encapsulation\n"
      ],
      "metadata": {
        "colab": {
          "base_uri": "https://localhost:8080/"
        },
        "id": "iarXzIOrCIh2",
        "outputId": "8efb3b66-3ab5-4f50-e0d0-4bb151a51948"
      },
      "execution_count": null,
      "outputs": [
        {
          "output_type": "stream",
          "name": "stdout",
          "text": [
            "Toyota\n",
            "Ford\n",
            "Invalid year.\n"
          ]
        }
      ]
    },
    {
      "cell_type": "markdown",
      "source": [
        "- **The reasons why we use Encapsulation :**\n",
        " - **Control over Data :** By restricting access to certain attributes, we can ensure that the object’s state is valid and consistent.\n",
        "   \n",
        " - **Maintainability :** Encapsulation allows us to change the internal implementation of a class without affecting other parts of the program that rely on it. For example, we could change how data is stored internally (e.g., change an attribute from a list to a set) without affecting the external interface.\n",
        "   \n",
        " - **Security :** It prevents unauthorized or accidental changes to the internal state of the object. With proper access control, we can prevent an object from entering an invalid state.\n",
        "\n",
        " - **Flexibility :** We can hide complex logic behind simple method calls. For instance, instead of exposing the internal attribute directly, we might only expose a method that performs additional checks or transformations."
      ],
      "metadata": {
        "id": "DsBHA1OjNmpD"
      }
    },
    {
      "cell_type": "markdown",
      "source": [
        "**9.\tWhat is a constructor in Python ?**\n",
        "- In Python, a **constructor** is a special method used to initialize objects of a class. When we create a new instance of a class, the constructor is automatically called to set up the initial state of the object. In Python, the constructor is the __ init __() method.\n",
        "\n",
        "- **The __ init __() Method :**\n",
        " - The __ init __() method is called when a new object of the class is created.\n",
        "\n",
        " - It allows us to initialize the attributes (properties) of the object.\n",
        "\n",
        " - The self parameter in __ init __() refers to the instance of the class (the object being created), and it gives we can access to the attributes and methods of that object."
      ],
      "metadata": {
        "id": "WerZmTI4DpFm"
      }
    },
    {
      "cell_type": "code",
      "source": [
        "# Syntax of a Constructor:\n",
        "\n",
        "class ClassName:\n",
        "    def __init__(self, param1, param2):  # The constructor\n",
        "        self.param1 = param1  # Initializing instance attributes\n",
        "        self.param2 = param2"
      ],
      "metadata": {
        "id": "UkF66nJNDwdu"
      },
      "execution_count": null,
      "outputs": []
    },
    {
      "cell_type": "code",
      "source": [
        "# EXAMPLE : (we create a Person class with a constructor to initialize the person's name and age)\n",
        "\n",
        "class Person:\n",
        "    def __init__(self, name, age):  # Constructor method\n",
        "        self.name = name  # Initializing instance attribute 'name'\n",
        "        self.age = age    # Initializing instance attribute 'age'\n",
        "\n",
        "    def greet(self):\n",
        "        print(f\"Hello, my name is {self.name} and I am {self.age} years old.\")\n",
        "\n",
        "# Creating an object of the Person class\n",
        "person1 = Person(\"Satyam\", 24)\n",
        "\n",
        "# Calling a method of the object\n",
        "person1.greet()  # Output: Hello, my name is Alice and I am 30 years old.\n"
      ],
      "metadata": {
        "colab": {
          "base_uri": "https://localhost:8080/"
        },
        "id": "hC4Kp-GED4oV",
        "outputId": "0209a69b-d8cd-4642-f23c-8c5bdff81af7"
      },
      "execution_count": null,
      "outputs": [
        {
          "output_type": "stream",
          "name": "stdout",
          "text": [
            "Hello, my name is Satyam and I am 24 years old.\n"
          ]
        }
      ]
    },
    {
      "cell_type": "markdown",
      "source": [
        "- **Key Points :**\n",
        " - **Automatic Call :** The __ init __() method is called automatically when a new instance of the class is created, meaning we don't need to explicitly call it.\n",
        "\n",
        " - **Initialization :** We use the constructor to set the initial values for an object's attributes. These values can be provided by the user when creating the object (as arguments to __ init __()).\n",
        "\n",
        " - **Self Parameter :** The self parameter is crucial. It refers to the instance of the object being created, and it's how us to access or modify the attributes and methods of that instance.\n",
        "\n",
        "- **Default Arguments in the Constructor :**\n",
        " - We can also use default values for arguments in the constructor, so they can be omitted when creating the object."
      ],
      "metadata": {
        "id": "QaGaG_VbEB-M"
      }
    },
    {
      "cell_type": "code",
      "source": [
        "# EXAMPLE (Default Arguments in the Constructor)\n",
        "\n",
        "class Car:\n",
        "    def __init__(self, make, model=\"Unknown\", year=2020):\n",
        "        self.make = make\n",
        "        self.model = model\n",
        "        self.year = year\n",
        "\n",
        "# Creating an object with all arguments\n",
        "car1 = Car(\"Toyota\", \"Corolla\", 2021)\n",
        "print(car1.make, car1.model, car1.year)  # Output: Toyota Corolla 2021\n",
        "\n",
        "# Creating an object with default model and year\n",
        "car2 = Car(\"Honda\")\n",
        "print(car2.make, car2.model, car2.year)  # Output: Honda Unknown 2020\n"
      ],
      "metadata": {
        "colab": {
          "base_uri": "https://localhost:8080/"
        },
        "id": "jaZSqw3_EDgj",
        "outputId": "c0687217-e9fd-42a4-b45f-f14af07242f7"
      },
      "execution_count": null,
      "outputs": [
        {
          "output_type": "stream",
          "name": "stdout",
          "text": [
            "Toyota Corolla 2021\n",
            "Honda Unknown 2020\n"
          ]
        }
      ]
    },
    {
      "cell_type": "markdown",
      "source": [
        "- **Constructor Overloading (Not Supported Directly in Python) :**\n",
        " - Unlike some other programming languages (like **Java** or **C++**), Python does not support constructor overloading, where we can define multiple constructors with different argument signatures. However, we can achieve similar functionality using default arguments or variable-length argument lists (**args and ****kwargs)."
      ],
      "metadata": {
        "id": "kFO9GssSEM6h"
      }
    },
    {
      "cell_type": "code",
      "source": [
        "# Example with Variable-Length Arguments\n",
        "\n",
        "class Person:\n",
        "    def __init__(self, *args):\n",
        "        if len(args) == 2:\n",
        "            self.name, self.age = args\n",
        "        elif len(args) == 1:\n",
        "            self.name = args[0]\n",
        "            self.age = 0  # Default age\n",
        "        else:\n",
        "            self.name = \"Unknown\"\n",
        "            self.age = 0\n",
        "\n",
        "    def greet(self):\n",
        "        print(f\"Hello, my name is {self.name} and I am {self.age} years old.\")\n",
        "\n",
        "# Creating objects with different numbers of arguments\n",
        "person1 = Person(\"Alice\", 30)\n",
        "person2 = Person(\"Bob\")\n",
        "person3 = Person()\n",
        "\n",
        "person1.greet()  # Output: Hello, my name is Alice and I am 30 years old.\n",
        "person2.greet()  # Output: Hello, my name is Bob and I am 0 years old.\n",
        "person3.greet()  # Output: Hello, my name is Unknown and I am 0 years old.\n"
      ],
      "metadata": {
        "colab": {
          "base_uri": "https://localhost:8080/"
        },
        "id": "jsmewtdcEODA",
        "outputId": "0507532c-6f55-4b35-e324-0ede98ef3dad"
      },
      "execution_count": null,
      "outputs": [
        {
          "output_type": "stream",
          "name": "stdout",
          "text": [
            "Hello, my name is Alice and I am 30 years old.\n",
            "Hello, my name is Bob and I am 0 years old.\n",
            "Hello, my name is Unknown and I am 0 years old.\n"
          ]
        }
      ]
    },
    {
      "cell_type": "markdown",
      "source": [
        "- In short,\n",
        " - A **constructor** in Python is defined by the __ init __() method and is automatically invoked when a new object of a class is created.\n",
        "\n",
        " - It is used to **initialize** the object's attributes.\n",
        "\n",
        " - The constructor can accept arguments to customize the initial state of the object.\n",
        "\n",
        " - Python does not support constructor overloading directly, but we can use default arguments or variable-length arguments to handle different initialization scenarios."
      ],
      "metadata": {
        "id": "gbdcKXsXEaDn"
      }
    },
    {
      "cell_type": "markdown",
      "source": [
        "**10.\tWhat are class and static methods in Python ?**\n",
        "- In Python, **class methods** and **static methods** are two types of methods that are bound to the class itself rather than to an instance of the class (which is the default behavior of instance methods). They are useful in certain scenarios where we want to perform operations that are related to the class, but not necessarily to any specific object instance.\n",
        "\n",
        "- **Class Methods :**\n",
        " - A **class method** is a method that is bound to the class rather than to the instance. It takes the class itself as its first argument, usually named cls, instead of self (which refers to the instance). We define class methods using the **@classmethod** decorator.\n",
        "\n",
        " - Class methods are used to define behavior that operates on the class itself, not on individual instances.\n",
        "\n",
        " - They can modify class-level attributes, but not instance-level attributes (i.e., they don't require an instance of the class to be called).\n",
        "\n",
        " - Class methods can be called on the class itself or on any instance of the class."
      ],
      "metadata": {
        "id": "UJAAnUZMIVr0"
      }
    },
    {
      "cell_type": "code",
      "source": [
        "# Syntax (Class Method)\n",
        "\n",
        "class ClassName:\n",
        "    @classmethod\n",
        "    def method_name(cls, arguments):\n",
        "        # Method body\n",
        "        pass\n",
        "\n",
        "# Note: The code within the class (the @classmethod and method) needs to be indented."
      ],
      "metadata": {
        "id": "0yydZI2RKwe_"
      },
      "execution_count": null,
      "outputs": []
    },
    {
      "cell_type": "code",
      "source": [
        "# Example (Class Method)\n",
        "\n",
        "class Person:\n",
        "    species = \"Homo sapiens\"  # Class attribute\n",
        "\n",
        "    def __init__(self, name, age):\n",
        "        self.name = name\n",
        "        self.age = age\n",
        "\n",
        "    @classmethod\n",
        "    def get_species(cls):\n",
        "        return cls.species  # Accessing class attribute\n",
        "\n",
        "# Calling class method without creating an instance\n",
        "print(Person.get_species())  # Output: Homo sapiens\n",
        "\n",
        "# Calling class method through an instance (also works)\n",
        "person1 = Person(\"Alice\", 30)\n",
        "print(person1.get_species())  # Output: Homo sapiens\n",
        "\n",
        "\n",
        "# In this example:\n",
        "  # get_species() is a class method, and it can be called both on the class (Person.get_species()) or an instance (person1.get_species()).\n",
        "  # The class method accesses the class-level attribute species.\n"
      ],
      "metadata": {
        "colab": {
          "base_uri": "https://localhost:8080/"
        },
        "id": "_suQ-wI4IbCc",
        "outputId": "60b45dc5-fb0a-434a-b279-06f9f121f125"
      },
      "execution_count": null,
      "outputs": [
        {
          "output_type": "stream",
          "name": "stdout",
          "text": [
            "Homo sapiens\n",
            "Homo sapiens\n"
          ]
        }
      ]
    },
    {
      "cell_type": "markdown",
      "source": [
        "- **Static Methods :**\n",
        " - A **static method** is a method that doesn't depend on the instance or the class. It is independent of both, and it doesn't modify the state of the object or the class. Static methods are defined using the **@staticmethod** decorator.\n",
        "\n",
        "- Static methods are used for operations that don't need access to class or instance attributes.\n",
        "\n",
        "- They don't take self or cls as the first argument, unlike instance and class methods.\n",
        "\n",
        "- Static methods are often utility functions that could logically belong to the class but don't need to modify or interact with the class or instance data."
      ],
      "metadata": {
        "id": "PtDP8y2pIkH2"
      }
    },
    {
      "cell_type": "code",
      "source": [
        "# Syntax (Static Method)\n",
        "\n",
        "class ClassName:\n",
        "    @staticmethod\n",
        "    def method_name(arguments):\n",
        "        # Method body\n",
        "        pass"
      ],
      "metadata": {
        "id": "JAuVeFKmIjl-"
      },
      "execution_count": null,
      "outputs": []
    },
    {
      "cell_type": "code",
      "source": [
        "# Example (Static Method)\n",
        "\n",
        "class Calculator:\n",
        "\n",
        "    @staticmethod\n",
        "    def add(x, y):\n",
        "        return x + y\n",
        "\n",
        "    @staticmethod\n",
        "    def multiply(x, y):\n",
        "        return x * y\n",
        "\n",
        "# Calling static methods without creating an instance\n",
        "print(Calculator.add(5, 3))  # Output: 8\n",
        "print(Calculator.multiply(4, 6))  # Output: 24\n",
        "\n",
        "\n",
        "# In this example:\n",
        "   # add() and multiply() are static methods. They don't depend on any instance or class attributes.\n",
        "   # We can call them directly on the class (Calculator.add(5, 3)) without needing to instantiate an object of the class."
      ],
      "metadata": {
        "colab": {
          "base_uri": "https://localhost:8080/"
        },
        "id": "lPdnrwcvIoq3",
        "outputId": "71e2cac0-ad34-4168-981f-bc54c7524a94"
      },
      "execution_count": null,
      "outputs": [
        {
          "output_type": "stream",
          "name": "stdout",
          "text": [
            "8\n",
            "24\n"
          ]
        }
      ]
    },
    {
      "cell_type": "markdown",
      "source": [
        "- **Class methods** are typically used when we need to :\n",
        "  - Work with class-level attributes.\n",
        "\n",
        "  - Create factory methods (methods that return instances of the class).\n",
        "\n",
        "  - Modify the state of the class, not the instance.\n",
        "  \n",
        "- **Static methods** are typically used when we need to :\n",
        "  - Perform utility functions that are related to the class but do not require access to instance or class-level attributes.\n",
        "\n",
        "  - Keep the method logically within the class context but not tied to object instances or class-level state.\n",
        "\n",
        "- **Factory Method Example (Using Class Method) :**\n",
        " - A common use case for a class method is to create a **factory method** (a method that creates instances of the class using different parameters or logic)."
      ],
      "metadata": {
        "id": "WCbLa5_vIz6C"
      }
    },
    {
      "cell_type": "code",
      "source": [
        "# EXAMPLE ;\n",
        "\n",
        "class Person:\n",
        "    def __init__(self, name, age):\n",
        "        self.name = name\n",
        "        self.age = age\n",
        "\n",
        "    @classmethod\n",
        "    def from_birth_year(cls, name, birth_year):\n",
        "        age = 2025 - birth_year  # Assume the current year is 2025\n",
        "        return cls(name, age)  # Returns an instance of the class\n",
        "\n",
        "# Using the factory method\n",
        "person1 = Person.from_birth_year(\"Alice\", 1995)\n",
        "print(person1.name, person1.age)  # Output: Alice 30\n",
        "\n",
        "\n",
        "# Here, the class method from_birth_year() is a factory method that creates a Person instance from the given name and birth_year.\n"
      ],
      "metadata": {
        "colab": {
          "base_uri": "https://localhost:8080/"
        },
        "id": "zAtDe86EI1ci",
        "outputId": "e6f377f2-cae6-498c-a7da-d8094d7af229"
      },
      "execution_count": null,
      "outputs": [
        {
          "output_type": "stream",
          "name": "stdout",
          "text": [
            "Alice 30\n"
          ]
        }
      ]
    },
    {
      "cell_type": "markdown",
      "source": [
        "- Both **class methods** and **static methods** provide useful ways to define behavior in our class without requiring instance-level access, depending on whether we need access to the class itself **(cls)** or neither **(staticmethod)**."
      ],
      "metadata": {
        "id": "4dGI9L8ZDpCl"
      }
    },
    {
      "cell_type": "markdown",
      "source": [
        "**11.\tWhat is method overloading in Python ?**\n",
        "- **Method overloading** is a concept where multiple methods in the same class can have the same name but different parameters (such as a different number of arguments or different types of arguments). This allows the same method to be called with different arguments and perform different behaviors depending on the input.\n",
        "\n",
        "- In languages like Java or C++, **method overloading** is directly supported.\n",
        "\n",
        "- We can define multiple methods with the same name but different signatures (i.e., different numbers or types of parameters).\n",
        "\n",
        "- **Method Overloading in Python :**\n",
        " - Python does not natively support **method overloading** in the same way that languages like Java or C++ do. In Python, if we define two methods with the same name, the later definition will **overwrite** the previous one, meaning only the last method definition will be available.\n",
        "\n",
        " - However, Python provides alternative ways to **simulate** method overloading by using default arguments, variable-length arguments (*args and ***kwargs), or by explicitly checking the types or number of arguments within a method.\n",
        "\n",
        "- **Simulating Method Overloading in Python :**\n",
        " - **Using Default Arguments :** We can define a method with default arguments that can be omitted when the method is called, simulating overloading by providing different behaviors based on the number of arguments passed."
      ],
      "metadata": {
        "id": "LbtUaOoBDo_G"
      }
    },
    {
      "cell_type": "code",
      "source": [
        "   # EXAMPLE (Using Default Arguments)\n",
        "   class Calculator:\n",
        "       def add(self, a, b=0, c=0):\n",
        "           return a + b + c\n",
        "\n",
        "   calc = Calculator()\n",
        "   print(calc.add(5))        # Output: 5 (uses default values for b and c)\n",
        "   print(calc.add(5, 3))     # Output: 8 (uses default value for c)\n",
        "   print(calc.add(5, 3, 2))  # Output: 10\n",
        "\n",
        "\n",
        "  # In this example, the add() method works with one, two, or three arguments by using default values for b and c.\n"
      ],
      "metadata": {
        "colab": {
          "base_uri": "https://localhost:8080/"
        },
        "id": "NgDyTbAwNyj1",
        "outputId": "4eb1fc59-82bc-446d-9d6c-a3831d3b525d"
      },
      "execution_count": null,
      "outputs": [
        {
          "output_type": "stream",
          "name": "stdout",
          "text": [
            "5\n",
            "8\n",
            "10\n"
          ]
        }
      ]
    },
    {
      "cell_type": "markdown",
      "source": [
        "- - **Using *args (Variable-Length Positional Arguments) :**\n",
        "   The *args syntax allows us to pass a variable number of arguments to a method. We can then handle the arguments inside the method based on how many were passed."
      ],
      "metadata": {
        "id": "VjFIExBsNzw7"
      }
    },
    {
      "cell_type": "code",
      "source": [
        "# EXAMPLE (Using *args (Variable-Length Positional Arguments))\n",
        "\n",
        "class Calculator:\n",
        "    def add(self, *args):\n",
        "        return sum(args)\n",
        "\n",
        "calc = Calculator()\n",
        "print(calc.add(1, 2))        # Output: 3\n",
        "print(calc.add(1, 2, 3, 4))  # Output: 10\n",
        "\n",
        "\n",
        "# Here, *args collects all positional arguments into a tuple, and the sum() function is used to calculate their total.\n"
      ],
      "metadata": {
        "colab": {
          "base_uri": "https://localhost:8080/"
        },
        "id": "iZBKxegmN3e2",
        "outputId": "6e7c91aa-c156-4b8e-d764-fdce4b21a1e1"
      },
      "execution_count": null,
      "outputs": [
        {
          "output_type": "stream",
          "name": "stdout",
          "text": [
            "3\n",
            "10\n"
          ]
        }
      ]
    },
    {
      "cell_type": "markdown",
      "source": [
        "- - **Using kwargs (Variable-Length Keyword Arguments) :** If we want to accept a variable number of keyword arguments (arguments passed in the form of key-value pairs), we can use **kwargs. This is useful when we need to simulate method overloading with named parameters."
      ],
      "metadata": {
        "id": "yxI7566VN9R9"
      }
    },
    {
      "cell_type": "code",
      "source": [
        "# EXAMPLE (Using kwargs (Variable-Length Keyword Arguments))\n",
        "\n",
        "class Printer:\n",
        "    def print_message(self, *args, **kwargs):\n",
        "        if len(args) == 1 and 'times' in kwargs:\n",
        "            for _ in range(kwargs['times']):\n",
        "                print(args[0])\n",
        "        elif len(args) == 1:\n",
        "            print(args[0])\n",
        "        else:\n",
        "            print(\"Invalid parameters\")\n",
        "\n",
        "printer = Printer()\n",
        "printer.print_message(\"Hello!\")             # Output: Hello!\n",
        "printer.print_message(\"Hello!\", times=3)    # Output: Hello! (printed 3 times)\n",
        "\n",
        "\n",
        "   # In this example, print_message() can be called with one positional argument and an optional times keyword argument to control how many times the message is printed.\n"
      ],
      "metadata": {
        "colab": {
          "base_uri": "https://localhost:8080/"
        },
        "id": "BAPml0ZKN-kl",
        "outputId": "2e54b500-b617-454f-b443-b00bc2f0aa60"
      },
      "execution_count": null,
      "outputs": [
        {
          "output_type": "stream",
          "name": "stdout",
          "text": [
            "Hello!\n",
            "Hello!\n",
            "Hello!\n",
            "Hello!\n"
          ]
        }
      ]
    },
    {
      "cell_type": "markdown",
      "source": [
        "- - **Using Type Checking :** We can also simulate method overloading by checking the type of the arguments using Python's built-in **isinstance()** function, which allows you to define different behavior based on the argument types."
      ],
      "metadata": {
        "id": "CgPLXSjjOFPF"
      }
    },
    {
      "cell_type": "code",
      "source": [
        "# EXAMPLE (Using Type Checking)\n",
        "\n",
        "class Display:\n",
        "    def show(self, data):\n",
        "        if isinstance(data, str):\n",
        "            print(f\"String: {data}\")\n",
        "        elif isinstance(data, int):\n",
        "            print(f\"Integer: {data}\")\n",
        "        elif isinstance(data, list):\n",
        "            print(f\"List: {', '.join(map(str, data))}\")\n",
        "        else:\n",
        "            print(\"Unsupported type\")\n",
        "\n",
        "display = Display()\n",
        "display.show(\"Hello\")   # Output: String: Hello\n",
        "display.show(123)       # Output: Integer: 123\n",
        "display.show([1, 2, 3]) # Output: List: 1, 2, 3\n",
        "\n",
        "\n",
        "# In this example, show() behaves differently depending on the type of the data argument passed to it.\n"
      ],
      "metadata": {
        "colab": {
          "base_uri": "https://localhost:8080/"
        },
        "id": "p2epxA9IOL0N",
        "outputId": "c6ffcba5-6408-4ef7-c422-0481d26afa7d"
      },
      "execution_count": null,
      "outputs": [
        {
          "output_type": "stream",
          "name": "stdout",
          "text": [
            "String: Hello\n",
            "Integer: 123\n",
            "List: 1, 2, 3\n"
          ]
        }
      ]
    },
    {
      "cell_type": "markdown",
      "source": [
        "- Python's flexible argument handling (args and kwargs) and dynamic typing make it possible to achieve method overloading-like functionality even without the explicit support for it that exists in statically typed languages like Java."
      ],
      "metadata": {
        "id": "3QWCpn1CDo5x"
      }
    },
    {
      "cell_type": "markdown",
      "source": [
        "**12.\tWhat is method overriding in OOP ?**\n",
        "- **Method overriding** is an object-oriented programming (OOP) concept that occurs when a subclass (child class) provides a **specific implementation** of a method that is already defined in its superclass (parent class). The child class method **replaces** the parent class method, allowing the subclass to modify or extend the behavior of the method from the parent class.\n",
        "\n",
        "- **Key Points of Method Overriding :**\n",
        " - **Inheritance :** Method overriding occurs in the context of inheritance, where a child class inherits from a parent class.\n",
        "\n",
        " - **Same Method Signature :** The method in the child class must have the same name, return type, and parameters as the method in the parent class.\n",
        "\n",
        " - **Polymorphism :** Method overriding is a key feature of **polymorphism** in OOP, where the same method can have different behaviors depending on the type of the object that invokes it."
      ],
      "metadata": {
        "id": "MCag9IuzDo2o"
      }
    },
    {
      "cell_type": "code",
      "source": [
        "# Syntax : In Python, method overriding is done by simply defining a method in the child class with the same name as the method in the parent class. Here's the basic structure:\n",
        "\n",
        "class ParentClass:\n",
        "    def method_name(self):\n",
        "        # Parent class method implementation\n",
        "        pass\n",
        "\n",
        "class ChildClass(ParentClass):\n",
        "    def method_name(self):\n",
        "        # Overridden method implementation in child class\n",
        "        pass\n"
      ],
      "metadata": {
        "id": "Dw9aV0vgSbSw"
      },
      "execution_count": null,
      "outputs": []
    },
    {
      "cell_type": "markdown",
      "source": [
        "- **Example of Method Overiding :** A parent class Animal defines a method **speak()**, and the child classes Dog and Cat override the **speak()** method to provide their own implementations"
      ],
      "metadata": {
        "id": "5I9FxGPGDoz4"
      }
    },
    {
      "cell_type": "code",
      "source": [
        "# EXAMPLE (Method Overriding)\n",
        "\n",
        "class Animal:\n",
        "    def speak(self):\n",
        "        print(\"Animal makes a sound\")\n",
        "\n",
        "class Dog(Animal):\n",
        "    def speak(self):\n",
        "        print(\"Dog barks\")\n",
        "\n",
        "class Cat(Animal):\n",
        "    def speak(self):\n",
        "        print(\"Cat meows\")\n",
        "\n",
        "# Create instances of each class\n",
        "animal = Animal()\n",
        "dog = Dog()\n",
        "cat = Cat()\n",
        "\n",
        "# Call the speak method on each instance\n",
        "animal.speak()  # Output: Animal makes a sound\n",
        "dog.speak()     # Output: Dog barks\n",
        "cat.speak()     # Output: Cat meows\n",
        "\n",
        "\n",
        "# In this example:\n",
        "   # The Animal class has a method speak() that is common to all animals.\n",
        "   # The Dog and Cat subclasses override the speak() method to provide their own specific behavior.\n",
        "   # When we call speak() on instances of Dog and Cat, their respective overridden methods are executed, demonstrating polymorphism."
      ],
      "metadata": {
        "colab": {
          "base_uri": "https://localhost:8080/"
        },
        "id": "KBAHae_VSn7K",
        "outputId": "e3c395da-6767-4811-9c2c-abd1dbd9b474"
      },
      "execution_count": null,
      "outputs": [
        {
          "output_type": "stream",
          "name": "stdout",
          "text": [
            "Animal makes a sound\n",
            "Dog barks\n",
            "Cat meows\n"
          ]
        }
      ]
    },
    {
      "cell_type": "markdown",
      "source": [
        "**13.\tWhat is a property decorator in Python ?**\n",
        "- The property decorator in Python is used to define **getter**, **setter**, and **deleter** methods for an attribute in a class, allowing us to manage how an attribute is accessed or modified. It provides a way to **encapsulate** attribute access, which allows us to control the behavior of attributes, enforce validation, or trigger side effects when getting, setting, or deleting them.\n",
        "\n",
        "- The property decorator is typically used in combination with **getter**, **setter**, and **deleter** methods.\n",
        " - **Getter :** The name and age attributes are accessed using the **@property** decorator. These methods are called automatically when we try to access the name or age like regular attributes.\n",
        "\n",
        " - **Setter :** When we assign a new value to name or age, the setter method is called. In the case of age, the setter ensures that the age cannot be set to a negative number.\n",
        "\n",
        " - **Deleter :** The **@deleter** decorator is used to define a method that is called when the attribute is deleted using the **del** keyword. Here, the age attribute is deleted, and a message is printed."
      ],
      "metadata": {
        "id": "gjPGgsNxDowm"
      }
    },
    {
      "cell_type": "code",
      "source": [
        "# EXAMPLE (Property Decorator)\n",
        "\n",
        "class ClassName:\n",
        "    def __init__(self, value):\n",
        "        self._value = value\n",
        "\n",
        "    @property\n",
        "    def attribute(self):\n",
        "        # Getter method: Retrieves the value\n",
        "        return self._value\n",
        "\n",
        "    @attribute.setter\n",
        "    def attribute(self, value):\n",
        "        # Setter method: Modifies the value\n",
        "        if value < 0:\n",
        "            raise ValueError(\"Value must be non-negative\")\n",
        "        self._value = value\n",
        "\n",
        "    @attribute.deleter\n",
        "    def attribute(self):\n",
        "        # Deleter method: Deletes the value\n",
        "        print(\"Deleting attribute\")\n",
        "        del self._value"
      ],
      "metadata": {
        "id": "VlX5KT9kXpYH"
      },
      "execution_count": null,
      "outputs": []
    },
    {
      "cell_type": "markdown",
      "source": [
        "- **In this example:**\n",
        " - The **@property** decorator is applied to the **attribute()** method to make it the ***getter** method. It allows us to access the _value attribute as if it were a regular attribute (without calling a method).\n",
        "\n",
        " - The **@attribute.setter** decorator is used to define a **setter** method for attribute, allowing us to assign a value to attribute and enforce constraints (in this case, ensuring the value is non-negative).\n",
        "\n",
        " - The **@attribute.deleter** decorator defines the **deleter** method, which gets called when the attribute is deleted."
      ],
      "metadata": {
        "id": "-xSnqMniDotZ"
      }
    },
    {
      "cell_type": "markdown",
      "source": [
        "**14.\tWhy is polymorphism important in OOP ?**\n",
        "- **Polymorphism** is one of the core principles of **Object-Oriented Programming (OOP)**, and it plays a crucial role in enhancing the flexibility, scalability, and maintainability of code. The word \"polymorphism\" comes from the Greek words *poly (meaning \"many\") and morph (meaning \"form\"), so it literally means \"many forms.\"\n",
        "\n",
        "- In the context of OOP, polymorphism allows objects of different types to be treated as instances of the same class through a common interface. It enables a single method, function, or operator to work with different types of objects in a flexible way.\n",
        "\n",
        "- **Importance of Polymorphism in OOP :**\n",
        " - **Code Reusability :**\n",
        "   - Polymorphism promotes **reusability** by allowing us to write functions or methods that can work with any class that implements a particular method. This means we don't need to write separate code for each different object type, as long as they share the same interface or method signature.\n",
        "\n",
        "   - **Example :** A single method that works for all types of Shape objects (e.g., Circle, Rectangle, Triangle) can be written, and it will work for any object of those types without needing specific code for each one.\n",
        "\n",
        " - **Flexibility and Extensibility :**\n",
        "   - Polymorphism allows code to be more flexible and extensible because we can add new classes and behaviors without changing existing code. As long as the new class follows the same interface (i.e., it has the required methods), it will work seamlessly with existing code. This is particularly useful in large systems where we may want to add new features without breaking existing functionality.\n",
        "\n",
        "   - **Example :** In a system that processes various types of documents, we could introduce a new PDF class or HTML class, and the existing process_document() function would work with these new classes without any modification.\n",
        "\n",
        " - **Code Maintainability :**\n",
        "   - When we use polymorphism, the code is generally more **maintainable** because we don't have to modify existing code when adding new object types. Changes are localized to the subclass, which means fewer changes in the parent class and less risk of breaking existing functionality.\n",
        "\n",
        "   - **Example :** If we add a new class Bird to an existing Animal class hierarchy, any method that takes Animal objects as input will automatically work with Bird objects, as long as Bird overrides the relevant methods. No need to modify methods that were already working with Dog, Cat, or other Animal subclasses.\n",
        "\n",
        " - **Simplification of Complex Code :**\n",
        "   - By abstracting different object types behind a common interface, polymorphism simplifies the code. We can treat all objects of a superclass type uniformly, even though they may have very different behaviors in the subclasses. This reduces the complexity of the code and makes it easier to manage.\n",
        "\n",
        "   - **Example :** If we have a collection of various types of shapes (e.g., Circle, Rectangle), we don't need to treat each shape differently. We can iterate over the shapes and call the same method (draw()) on each object, and the correct version of the method will be executed based on the object's actual type.\n",
        "\n",
        " - **Enabling Dynamic Method Resolution (Runtime Polymorphism) :**\n",
        "   - With polymorphism, we can have **dynamic method resolution**, meaning the method that gets executed is determined at runtime, not compile time. This enables **late binding** (i.e., the decision about which method to call is made when the program is running, based on the actual type of the object).\n",
        "\n",
        "   - **Example :** If a Shape reference holds a Circle object at runtime, calling the draw() method on that reference will invoke the draw() method of Circle, not Shape.\n",
        "\n",
        " - **Improved Design and Abstraction :**\n",
        "   - Polymorphism encourages **abstraction**, a core principle of OOP, by allowing classes to expose only the essential functionality while hiding the complex details. By focusing on interfaces or abstract methods, polymorphism allows us to design our system at a higher level, making it easier to reason about and more adaptable to change.\n",
        "\n",
        "   - **Example :** We can define an abstract method speak() in a Animal class, and then override it in subclasses (Dog, Cat, etc.) to provide specific implementations. The user of the Animal class doesn't need to know whether the object is a Dog or Cat, just that it can call speak().\n",
        "\n",
        "- **Example of Polymorphism in Python :**\n",
        " - Consider a scenario where we have a base class Shape and derived classes Circle and Rectangle. We want to calculate the area of different shapes, but we don't want to write separate functions for each type. Instead, we'll use polymorphism to handle it generically."
      ],
      "metadata": {
        "id": "syOy_TziDoql"
      }
    },
    {
      "cell_type": "code",
      "source": [
        "# EXAMPLE (Polymorphism)\n",
        "\n",
        "class Shape:\n",
        "    def area(self):\n",
        "        raise NotImplementedError(\"Subclass must implement abstract method\")\n",
        "\n",
        "class Circle(Shape):\n",
        "    def __init__(self, radius):\n",
        "        self.radius = radius\n",
        "\n",
        "    def area(self):\n",
        "        return 3.14 * self.radius * self.radius\n",
        "\n",
        "class Rectangle(Shape):\n",
        "    def __init__(self, width, height):\n",
        "        self.width = width\n",
        "        self.height = height\n",
        "\n",
        "    def area(self):\n",
        "        return self.width * self.height\n",
        "\n",
        "# Function that accepts any shape and calculates its area\n",
        "def print_area(shape):\n",
        "    print(f\"Area: {shape.area()}\")\n",
        "\n",
        "# Create objects\n",
        "circle = Circle(5)\n",
        "rectangle = Rectangle(4, 6)\n",
        "\n",
        "# Call print_area with different shape objects\n",
        "print_area(circle)      # Output: Area: 78.5\n",
        "print_area(rectangle)   # Output: Area: 24\n"
      ],
      "metadata": {
        "id": "NzBhSMlMZxux",
        "colab": {
          "base_uri": "https://localhost:8080/"
        },
        "outputId": "de0f5ec0-422a-451e-eff0-62887dd9bede"
      },
      "execution_count": null,
      "outputs": [
        {
          "output_type": "stream",
          "name": "stdout",
          "text": [
            "Area: 78.5\n",
            "Area: 24\n"
          ]
        }
      ]
    },
    {
      "cell_type": "markdown",
      "source": [
        "- - In this example:\n",
        "   - Shape is the base class with an abstract method area().\n",
        "\n",
        "   - Circle and Rectangle are subclasses that override the area() method to provide their specific implementations.\n",
        "\n",
        "   - The function print_area() can accept any object that is a subclass of Shape and works polymorphically, regardless of whether it’s a Circle, Rectangle, or another subclass.\n",
        "\n",
        "- **Polymorphism** is essential in OOP because it leads to more flexible, reusable, and maintainable code. It helps us to design systems that are easier to extend and modify without affecting existing functionality."
      ],
      "metadata": {
        "id": "52v2YlIlZ9IN"
      }
    },
    {
      "cell_type": "markdown",
      "source": [
        "**15.\tWhat is an abstract class in Python ?**\n",
        "- An **abstract class** in Python is a class that cannot be instantiated directly and is intended to serve as a blueprint for other classes. It allows us to define methods that must be implemented by any subclass, but it can also include some methods with default implementations.\n",
        "\n",
        "- **Abstract classes** are used to define a common interface for a group of related classes, ensuring that they adhere to a specific contract by requiring them to implement certain methods.\n",
        "\n",
        "- **Key Characteristics of an Abstract Class :**\n",
        " - **Cannot be instantiated :** We cannot create an object of an abstract class directly. It's meant to be subclassed.\n",
        "\n",
        " - **Abstract methods :** An abstract class can contain **abstract methods**, which are methods that have no implementation in the abstract class itself. These methods must be implemented by any non-abstract subclass.\n",
        "\n",
        " - **Concrete methods :** An abstract class can also contain **concrete methods** (methods with implementations) that can be inherited directly by subclasses.\n",
        "\n",
        "- **Abstract Class in Python :**\n",
        " - In Python, we define an abstract class using the **abc module** (Abstract Base Classes). The key components are:\n",
        "   - **ABC :** A base class from the abc module, which defines the abstract class.\n",
        "\n",
        "   - **@abstractmethod decorator :** A decorator used to mark methods as abstract, meaning they must be implemented by subclasses."
      ],
      "metadata": {
        "id": "X128IUwBDonk"
      }
    },
    {
      "cell_type": "code",
      "source": [
        "# Syntax:\n",
        "\n",
        "from abc import ABC, abstractmethod\n",
        "\n",
        "class MyAbstractClass(ABC):\n",
        "\n",
        "    @abstractmethod\n",
        "    def abstract_method(self):\n",
        "        pass\n",
        "\n",
        "    def concrete_method(self):\n",
        "        print(\"This is a concrete method.\")\n",
        "\n",
        "# In this example:\n",
        "     # MyAbstractClass is an abstract class because it inherits from ABC and contains an abstract method abstract_method().\n",
        "     # The @abstractmethod decorator ensures that any subclass must implement the abstract_method().\n"
      ],
      "metadata": {
        "id": "y7K1PkuPh7_S"
      },
      "execution_count": null,
      "outputs": []
    },
    {
      "cell_type": "code",
      "source": [
        "# Example (Abstract Class)\n",
        "\n",
        "from abc import ABC, abstractmethod\n",
        "\n",
        "# Define the abstract base class\n",
        "class Animal(ABC):\n",
        "\n",
        "    @abstractmethod\n",
        "    def sound(self):\n",
        "        pass\n",
        "\n",
        "    @abstractmethod\n",
        "    def move(self):\n",
        "        pass\n",
        "\n",
        "    def eat(self):\n",
        "        print(\"This animal is eating.\")\n",
        "\n",
        "# Define a subclass that implements the abstract methods\n",
        "class Dog(Animal):\n",
        "\n",
        "    def sound(self):\n",
        "        return \"Bark\"\n",
        "\n",
        "    def move(self):\n",
        "        return \"Run\"\n",
        "\n",
        "# Define another subclass that implements the abstract methods\n",
        "class Bird(Animal):\n",
        "\n",
        "    def sound(self):\n",
        "        return \"Chirp\"\n",
        "\n",
        "    def move(self):\n",
        "        return \"Fly\"\n",
        "\n",
        "# Creating instances of Dog and Bird\n",
        "dog = Dog()\n",
        "bird = Bird()\n",
        "\n",
        "# Calling methods\n",
        "print(dog.sound())  # Output: Bark\n",
        "print(dog.move())   # Output: Run\n",
        "dog.eat()           # Output: This animal is eating.\n",
        "\n",
        "print(bird.sound()) # Output: Chirp\n",
        "print(bird.move())  # Output: Fly\n",
        "bird.eat()          # Output: This animal is eating.\n",
        "\n",
        "\n",
        "# Explanation:\n",
        "     # Animal is an abstract class with two abstract methods (sound() and move()), and one concrete method (eat()).\n",
        "     # Dog and Bird are concrete subclasses that implement the abstract methods sound() and move().\n",
        "     # We cannot create an instance of Animal because it is abstract. However, we can create instances of Dog and Bird, which have provided implementations for the abstract methods.\n"
      ],
      "metadata": {
        "colab": {
          "base_uri": "https://localhost:8080/"
        },
        "id": "8qZIfqBfiBW7",
        "outputId": "5a2be33b-9f14-47e3-fc18-41200871d6bd"
      },
      "execution_count": null,
      "outputs": [
        {
          "output_type": "stream",
          "name": "stdout",
          "text": [
            "Bark\n",
            "Run\n",
            "This animal is eating.\n",
            "Chirp\n",
            "Fly\n",
            "This animal is eating.\n"
          ]
        }
      ]
    },
    {
      "cell_type": "markdown",
      "source": [
        "- In short,\n",
        " - An **abstract class** in Python is a class that cannot be instantiated directly and is meant to be subclassed.\n",
        "\n",
        " - It can contain **abstract **, which must be implemented by any subclass.\n",
        "\n",
        " - Abstract classes are defined using the ABC class and @abstractmethod decorator from the abc module.\n",
        "\n",
        " - They are useful for enforcing a **common interface** in subclasses, organizing code, preventing direct instantiation, and enabling **polymorphism**."
      ],
      "metadata": {
        "id": "zPZa-BveiWNy"
      }
    },
    {
      "cell_type": "markdown",
      "source": [
        "**16.\tWhat are the advantages of OOP ?**\n",
        "- **Object-Oriented Programming (OOP)** is a widely-used programming paradigm that organizes software design around **objects** and **classes**. OOP provides a variety of benefits, making it a powerful tool for developers to create modular, maintainable, and scalable systems.\n",
        "\n",
        "- **Here are the key advantages of OOP :**\n",
        " - **Modularity :**\n",
        "   - **Encapsulation :** In OOP, objects encapsulate data and methods, allowing us to divide complex systems into smaller, manageable components (classes). Each object is like a module that can be tested and developed independently, making the system easier to understand and maintain.\n",
        "\n",
        "     - **Example :** A Car class could encapsulate all attributes and behaviors related to a car, such as engine, wheels, and methods like start() and stop(). This makes the car object self-contained and manageable.\n",
        "\n",
        "  - **Code Reusability :**\n",
        "   - **Inheritance :** One of the key features of OOP is inheritance, where a class can inherit properties and methods from another class. This promotes **reusability**, as we can reuse code from a parent class in a child class and extend or modify it as needed.\n",
        "\n",
        "     - **Example :** If we have a Vehicle class with basic properties like speed and methods like accelerate(), we can create a Car class or Bike class that inherits from Vehicle and adds specific functionality.\n",
        "\n",
        " - **Maintainability :**\n",
        "   - **Encapsulation :** Since objects manage their own data, changes to an object's internal implementation don't affect other parts of the code that interact with it. This makes the code easier to maintain, as we can update the internal logic without changing the way the class is used.\n",
        "\n",
        "   - **Abstraction :** OOP allows us to hide complex details and only expose the necessary parts of the code, making it easier to manage and maintain. Users of a class don’t need to know how it works internally, just how to interact with it.\n",
        "\n",
        "     - **Example :** We can change the implementation of how the Car object tracks fuel efficiency, but as long as the public interface (e.g., getFuelEfficiency()) remains the same, other parts of the system won't break.\n",
        "\n",
        " - **Scalability and Extensibility :**\n",
        "   - **Inheritance** and **Polymorphism** : OOP allows us to build on existing classes, which makes it easy to extend your application. We can create new classes that extend the functionality of existing ones, providing a structured and scalable way to add new features.\n",
        "\n",
        "     - **Example :** In a game development system, we could have a Character class. By extending Character, we could create specific character types like Warrior, Mage, and Archer, each with unique behaviors.\n",
        "\n",
        " - **Abstraction :**\n",
        "   - OOP allows us to focus on **what** an object does rather than **how** it does it. By defining clear interfaces and abstracting complex implementation details, we can create code that is easier to understand and use.\n",
        "\n",
        "     - **Example :** An interface like Drawable can define a method draw(), which could be implemented differently for different shapes like Circle, Square, or Triangle. This hides the internal details of drawing the shape and allows the user to interact with a simple draw() method.\n",
        "\n",
        " - **Data Security and Integrity :**\n",
        "   - **Encapsulation :** By restricting access to an object's internal state (using private or protected attributes and methods), OOP helps ensure data integrity and security. Access to the internal data can only be made through well-defined interfaces (getters and setters), reducing the risk of invalid data or accidental modifications.\n",
        "\n",
        "     - **Example :** If an object has a private attribute __balance, it can only be modified through a controlled method like deposit() or withdraw(), preventing direct modification and ensuring that the balance remains valid.\n",
        "\n",
        " - **Easy Debugging and Testing :**\n",
        "   - **Modular Design :** Since OOP promotes the development of modular components, we can easily isolate and test individual objects or classes. This modularity simplifies debugging and testing, as we can work with specific parts of the program without affecting the entire system.\n",
        "\n",
        "     - **Example :** We can test the Car class independently to ensure that methods like start() and stop() behave correctly, without worrying about other parts of the application.\n",
        "\n",
        " - **Real-World Modeling :**\n",
        "   - OOP models real-world entities more naturally. The objects in our code can represent tangible things (like cars, employees, or books) or abstract concepts (like transactions or events). This makes it easier to design systems that reflect the way things work in the real world.\n",
        "\n",
        "     - Example: In a school management system, a Student class can model the attributes and behavior of a student, and a Teacher class can represent teachers. We can create relationships between objects, like a Teacher teaching a Student, making the design intuitive.\n",
        "\n",
        " - **Polymorphism :**\n",
        "   - **Polymorphism** allows objects of different classes to be treated as objects of a common superclass. This is especially useful when we want to design systems where the behavior of objects can vary, but they share a common interface. It leads to more flexible and dynamic systems.\n",
        "\n",
        "     - **Example :** A draw() method in a Shape class can be implemented differently for subclasses like Circle, Rectangle, and Triangle. The same method can be called on any Shape object, but the appropriate version of draw() is executed depending on the actual type of the object.\n",
        "\n",
        " - **Flexibility in Program Design :**\n",
        "   - OOP gives us the flexibility to design systems that can be adapted easily to changes and extensions. With the principles of inheritance and polymorphism, we can develop a system that allows new features to be added with minimal changes to the existing code.\n",
        "\n",
        "     - **Example :** If we’re developing an e-commerce system and decide to add a new type of payment method (like cryptocurrency), we can extend the PaymentMethod class and introduce the new behavior without changing the core logic of the payment processing system.\n",
        "\n",
        "\n",
        "- In short, **OOP's advantages** make it well-suited for **building large, complex, and maintainable software systems**. It encourages better organization, cleaner code, and a more intuitive way to model the real world, all of which contribute to efficient and effective software development."
      ],
      "metadata": {
        "id": "Gemv7ONBDok6"
      }
    },
    {
      "cell_type": "markdown",
      "source": [
        "**17.\tWhat is multiple inheritance in Python ?**\n",
        "\n",
        "- **Multiple inheritance** in Python refers to the ability of a class to inherit from more than one parent class. This allows a subclass to inherit the attributes and methods from multiple parent classes, potentially combining their behaviors.\n",
        "\n",
        "- Python supports multiple inheritance, which means that a derived class can inherit from two or more base classes, rather than just a single class as in traditional single inheritance.\n",
        "\n",
        "- In **multiple inheritance**, the child class inherits methods and attributes from more than one parent class. The child class can then override or extend the functionality of the inherited methods."
      ],
      "metadata": {
        "id": "VnIH26dSpHlD"
      }
    },
    {
      "cell_type": "code",
      "source": [
        "# Syntax (Multiple Inheritance)\n",
        "\n",
        "class ClassA:\n",
        "    def method_A(self):\n",
        "        print(\"Method from Class A\")\n",
        "\n",
        "class ClassB:\n",
        "    def method_B(self):\n",
        "        print(\"Method from Class B\")\n",
        "\n",
        "class ClassC(ClassA, ClassB):  # Inheriting from both ClassA and ClassB\n",
        "    def method_C(self):\n",
        "        print(\"Method from Class C\")\n",
        "\n",
        "# Creating an object of ClassC\n",
        "obj = ClassC()\n",
        "obj.method_A()  # Output: Method from Class A\n",
        "obj.method_B()  # Output: Method from Class B\n",
        "obj.method_C()  # Output: Method from Class C\n",
        "\n",
        "\n",
        "# In this example:\n",
        "    # ClassC inherits from both ClassA and ClassB.\n",
        "    # The obj of ClassC can access methods from both parent classes (method_A() from ClassA and method_B() from ClassB).\n"
      ],
      "metadata": {
        "colab": {
          "base_uri": "https://localhost:8080/"
        },
        "id": "w8paT7JnpJNC",
        "outputId": "8c9da566-7f34-467a-9d9d-6551a0cd4e64"
      },
      "execution_count": null,
      "outputs": [
        {
          "output_type": "stream",
          "name": "stdout",
          "text": [
            "Method from Class A\n",
            "Method from Class B\n",
            "Method from Class C\n"
          ]
        }
      ]
    },
    {
      "cell_type": "markdown",
      "source": [
        "- **Multiple inheritance** allows us to inherit from more than one class, combining behaviors and promoting code reuse. However, it should be used carefully to avoid confusion and complexity, especially in large systems where the class hierarchy can become difficult to manage. Python’s MRO and the super() function are valuable tools for managing the behavior of multiple inheritance."
      ],
      "metadata": {
        "id": "1ldvIWcgDoiG"
      }
    },
    {
      "cell_type": "markdown",
      "source": [
        "**18.\tWhat is the difference between a class variable and an instance variable ?**\n",
        "- In Python, **class variables** and **instance variables** are both used to store data within a class, but they differ in how they are accessed and what they represented.\n",
        "\n",
        "- **Class Variables :**\n",
        " - A class variable is a variable that is shared by all instances (objects) of a class. It is defined within the class but outside of any methods, usually at the top of the class body.\n",
        "\n",
        " - Class variables are shared by all instances of the class. Every instance of the class will have access to the same class variable and can modify it, which affects all instances.\n",
        "\n",
        " - Class variables are accessed using the class name (e.g., ClassName.variable) or through an instance (e.g., instance.variable), but they belong to the class itself."
      ],
      "metadata": {
        "id": "bzeF21o_Doet"
      }
    },
    {
      "cell_type": "code",
      "source": [
        "# Example (Class Variable)\n",
        "\n",
        "class Dog:\n",
        "    # Class variable\n",
        "    species = \"Canine\"\n",
        "\n",
        "    def __init__(self, name, breed):\n",
        "        # Instance variables\n",
        "        self.name = name\n",
        "        self.breed = breed\n",
        "\n",
        "# Create two Dog instances\n",
        "dog1 = Dog(\"Buddy\", \"Golden Retriever\")\n",
        "dog2 = Dog(\"Max\", \"Labrador\")\n",
        "\n",
        "# Accessing class variable via instance\n",
        "print(dog1.species)  # Output: Canine\n",
        "print(dog2.species)  # Output: Canine\n",
        "\n",
        "# Modifying class variable via class name\n",
        "Dog.species = \"Canis\"\n",
        "\n",
        "print(dog1.species)  # Output: Canis\n",
        "print(dog2.species)  # Output: Canis\n",
        "\n",
        "\n",
        "# In this example:\n",
        "   # species is a class variable, and it is shared across all instances of Dog.\n",
        "   # If you modify species using Dog.species, it affects all instances of Dog.\n"
      ],
      "metadata": {
        "colab": {
          "base_uri": "https://localhost:8080/"
        },
        "id": "wpEWwO5HqoN8",
        "outputId": "1c48f773-02a3-40fa-beab-b4be5073feca"
      },
      "execution_count": null,
      "outputs": [
        {
          "output_type": "stream",
          "name": "stdout",
          "text": [
            "Canine\n",
            "Canine\n",
            "Canis\n",
            "Canis\n"
          ]
        }
      ]
    },
    {
      "cell_type": "markdown",
      "source": [
        "- **Instance Variables :**\n",
        " - An instance variable is a variable that is specific to an instance (object) of a class. It is defined within the __init__ method (or any other method) and is usually prefixed with self to refer to the instance.\n",
        "\n",
        " - Instance variables are **unique to each instance** of the class. Every object created from the class will have its own copy of the instance variables.\n",
        "\n",
        " - Instance variables are accessed using self within methods, and they are tied to specific instances of the class.\n"
      ],
      "metadata": {
        "id": "qRVApfDvquNx"
      }
    },
    {
      "cell_type": "code",
      "source": [
        "# Example (Instance Variable)\n",
        "\n",
        "class Dog:\n",
        "    def __init__(self, name, breed):\n",
        "        # Instance variables\n",
        "        self.name = name\n",
        "        self.breed = breed\n",
        "\n",
        "# Create two Dog instances\n",
        "dog1 = Dog(\"Buddy\", \"Golden Retriever\")\n",
        "dog2 = Dog(\"Max\", \"Labrador\")\n",
        "\n",
        "# Accessing instance variables\n",
        "print(dog1.name)   # Output: Buddy\n",
        "print(dog2.name)   # Output: Max\n",
        "print(dog1.breed)  # Output: Golden Retriever\n",
        "print(dog2.breed)  # Output: Labrador\n",
        "\n",
        "\n",
        "# In this example:\n",
        "   # name and breed are instance variables, and each instance (dog1, dog2) has its own separate copy of these variables.\n",
        "   # Modifying dog1.name does not affect dog2.name, as they belong to different instances.\n"
      ],
      "metadata": {
        "colab": {
          "base_uri": "https://localhost:8080/"
        },
        "id": "q-WkbQGiq4VK",
        "outputId": "3d6f35e3-da82-498d-fbbc-2e13926b91c6"
      },
      "execution_count": null,
      "outputs": [
        {
          "output_type": "stream",
          "name": "stdout",
          "text": [
            "Buddy\n",
            "Max\n",
            "Golden Retriever\n",
            "Labrador\n"
          ]
        }
      ]
    },
    {
      "cell_type": "markdown",
      "source": [
        "| **Feature**               | **Class** **Variables**                                  | **Instance** **Variables**                                   |\n",
        "|-----------------------|------------------------------------------------------|---------------------------------------------------------|\n",
        "| **Scope**             | Shared by all instances of the class.               | Unique to each instance (object).                       |\n",
        "| **Defined**           | Outside methods, directly within the class.         | Inside methods, typically within __init__.            |\n",
        "| **Access**            | Can be accessed via the class name or the instance. | Accessed through the self keyword in instance methods. |\n",
        "| **Modification Impact**| Modifying a class variable affects all instances.    | Modifying an instance variable only affects the specific instance. |\n",
        "| **Default Value**     | Same value for all instances unless explicitly changed. | Different values for each instance, typically set via __init__. |\n",
        "| **Memory Allocation** | Only one copy of the class variable is stored for the entire class. | Each instance has its own copy of the instance variable. |\n"
      ],
      "metadata": {
        "id": "iZuuBuJIrC-5"
      }
    },
    {
      "cell_type": "code",
      "source": [
        "#Example with Modifying Both:\n",
        "\n",
        "class Dog:\n",
        "    # Class variable\n",
        "    species = \"Canine\"\n",
        "\n",
        "    def __init__(self, name, breed):\n",
        "        # Instance variables\n",
        "        self.name = name\n",
        "        self.breed = breed\n",
        "\n",
        "# Create two Dog instances\n",
        "dog1 = Dog(\"Buddy\", \"Golden Retriever\")\n",
        "dog2 = Dog(\"Max\", \"Labrador\")\n",
        "\n",
        "# Accessing class variable and instance variables\n",
        "print(dog1.species)  # Output: Canine\n",
        "print(dog2.species)  # Output: Canine\n",
        "\n",
        "# Modify class variable via instance\n",
        "dog1.species = \"Wolf\"  # This creates a new instance variable, not modifying the class variable\n",
        "\n",
        "print(dog1.species)  # Output: Wolf (this is an instance variable for dog1)\n",
        "print(dog2.species)  # Output: Canine (class variable, unchanged)\n",
        "\n",
        "# Modify instance variables\n",
        "dog1.name = \"Charlie\"\n",
        "print(dog1.name)  # Output: Charlie\n",
        "print(dog2.name)  # Output: Max\n",
        "\n",
        "\n",
        "# In this example:\n",
        "    # species is a class variable, but when modified through an instance (e.g., dog1.species = \"Wolf\"), it becomes an instance variable for dog1.\n",
        "    # The name variable is an instance variable, and modifying dog1.name does not affect dog2.name."
      ],
      "metadata": {
        "colab": {
          "base_uri": "https://localhost:8080/"
        },
        "id": "5s1m7lwarJuy",
        "outputId": "9be147bb-8f2b-483f-b58f-b735a046982c"
      },
      "execution_count": null,
      "outputs": [
        {
          "output_type": "stream",
          "name": "stdout",
          "text": [
            "Canine\n",
            "Canine\n",
            "Wolf\n",
            "Canine\n",
            "Charlie\n",
            "Max\n"
          ]
        }
      ]
    },
    {
      "cell_type": "markdown",
      "source": [
        "**19.\tExplain the purpose of ‘’__str__’ and ‘__repr__’ ‘ methods in Python.**\n",
        "- In Python, the __ str __ and __ repr __ methods are special (or **dunder**) methods that define how objects of a class are represented as strings. They serve different purposes and are used in different contexts.\n",
        "\n",
        "- **__ str __ Method :**\n",
        " - **Purpose :** The __ str __ method is used to define a human-readable or informal string representation of an object. It is meant to return a string that is easy to read and understand when printed or converted to a string.\n",
        "\n",
        " - **Usage :** This method is called when the str() function is invoked on an object or when we use print() to display an object.\n",
        "\n",
        " - **Example :** The __ str __ method is generally used to provide a user-friendly description of the object, which is typically more readable and concise."
      ],
      "metadata": {
        "id": "RpouP20QDoZF"
      }
    },
    {
      "cell_type": "code",
      "source": [
        "# Example (__str__)\n",
        "\n",
        "class Car:\n",
        "    def __init__(self, make, model):\n",
        "        self.make = make\n",
        "        self.model = model\n",
        "\n",
        "    def __str__(self):\n",
        "        return f\"{self.make} {self.model}\"\n",
        "\n",
        "# Creating an object of the Car class\n",
        "car = Car(\"Toyota\", \"Corolla\")\n",
        "\n",
        "# Using str() or print() on the object\n",
        "print(car)  # Output: Toyota Corolla\n",
        "\n",
        "\n",
        "# In this example:\n",
        "    #The __str__ method provides a simple and readable string representation of the Car object, which is \"Toyota Corolla\" when printed.\n"
      ],
      "metadata": {
        "colab": {
          "base_uri": "https://localhost:8080/"
        },
        "id": "OD_CgcG6tomr",
        "outputId": "774fd5c7-9885-46b3-af58-19d429432302"
      },
      "execution_count": null,
      "outputs": [
        {
          "output_type": "stream",
          "name": "stdout",
          "text": [
            "Toyota Corolla\n"
          ]
        }
      ]
    },
    {
      "cell_type": "markdown",
      "source": [
        "- **__ repr __ Method :**\n",
        " - **Purpose :** The __ repr __ method is used to define a formal string representation of an object that should ideally be unambiguous and, if possible, could be used to recreate the object (i.e., it should ideally return a string that, when passed to eval(), could recreate the object).\n",
        "\n",
        " - **Usage :** The __ repr __ method is called when the repr() function is invoked on an object or when we are inspecting the object in the interactive Python shell. It is used primarily for debugging and development.\n",
        "\n",
        " - **Example :** The __ repr __ method is typically more detailed and could provide additional information that helps with debugging."
      ],
      "metadata": {
        "id": "7zNODtMXDoTI"
      }
    },
    {
      "cell_type": "code",
      "source": [
        "# Example (__repr__)\n",
        "\n",
        "class Car:\n",
        "    def __init__(self, make, model):\n",
        "        self.make = make\n",
        "        self.model = model\n",
        "\n",
        "    def __repr__(self):\n",
        "        return f\"Car(make='{self.make}', model='{self.model}')\"\n",
        "\n",
        "# Creating an object of the Car class\n",
        "car = Car(\"Toyota\", \"Corolla\")\n",
        "\n",
        "# Using repr() or inspecting the object in the shell\n",
        "print(repr(car))  # Output: Car(make='Toyota', model='Corolla')\n",
        "\n",
        "\n",
        "# In this example:\n",
        "     # The __repr__ method provides a more formal and detailed string representation of the Car object, which includes the class name and all relevant attributes. This is helpful for debugging because it shows exactly how the object can be represented.\n"
      ],
      "metadata": {
        "colab": {
          "base_uri": "https://localhost:8080/"
        },
        "id": "32gb2XYgtxrC",
        "outputId": "3c2f3da1-15de-4954-fb24-2ab1c4b9a037"
      },
      "execution_count": null,
      "outputs": [
        {
          "output_type": "stream",
          "name": "stdout",
          "text": [
            "Car(make='Toyota', model='Corolla')\n"
          ]
        }
      ]
    },
    {
      "cell_type": "markdown",
      "source": [
        "- If we only define __ repr __ and not __ str __, Python will default to using __ repr __ for both str() and print() calls. However, it's common practice to define both methods, ensuring that __ str __ gives a user-friendly output, while __ repr __ is more detailed and unambiguous for debugging purposes."
      ],
      "metadata": {
        "id": "Un0GUhliDoM3"
      }
    },
    {
      "cell_type": "markdown",
      "source": [
        "**20.\tWhat is the significance of the ‘super()’ function in Python ?**\n",
        "- The **super()** function in Python is an essential tool in object-oriented programming (OOP). It provides a way to call methods from a parent (super) class from within a subclass. It is particularly useful in the context of **inheritance** and **method resolution order (MRO)**.\n",
        "\n",
        "- **Its significance :**\n",
        " - **Calling Methods from Parent Classes :**\n",
        "   - **super()** is commonly used to call methods from a **parent class** or **base class** within a **child class**. This is particularly useful when overriding a method in a subclass and still needing to invoke the same method from the parent class (either before or after the subclass’s custom functionality).\n",
        "\n",
        " - **Avoiding Direct Class References :**\n",
        "   - Using **super()** helps avoid the need to directly refer to the parent class by name, making our code more maintainable and flexible. This is especially important when dealing with multiple inheritance or when the class hierarchy changes over time.\n",
        "\n",
        " - **Method Resolution Order (MRO) :**\n",
        "   - **super()** ensures that the method is called according to the **Method Resolution Order (MRO)** in Python. This is a well-defined order that Python uses to search through classes in the inheritance chain when trying to resolve method calls. The MRO is particularly useful when dealing with multiple inheritance, as it dictates the order in which base classes are checked."
      ],
      "metadata": {
        "id": "7HsM1sI0DoE0"
      }
    },
    {
      "cell_type": "markdown",
      "source": [
        "- **In single inheritance**, **super()** simply refers to the immediate parent class.\n",
        "\n",
        "- **In multiple inheritance**, **super()** helps navigate through the method resolution order and can call methods from all parent classes in the right order."
      ],
      "metadata": {
        "id": "1ABCxEJUwRN7"
      }
    },
    {
      "cell_type": "code",
      "source": [
        "# Syntax of super()\n",
        "\n",
        "super().method_name(args)"
      ],
      "metadata": {
        "id": "U21fxaAgQzNv"
      },
      "execution_count": null,
      "outputs": []
    },
    {
      "cell_type": "markdown",
      "source": [
        "- **super()** can be called with no arguments inside a method, and it will automatically refer to the class in which the method is currently defined.\n",
        "\n",
        "- In some cases (especially in Python 2.x), we can pass **super()** with arguments like **super(CurrentClass, self)** to explicitly specify the class and instance.\n",
        "\n",
        "- **Key Advantages of Using super() :**\n",
        " - **Maintaining the Inheritance Chain :**\n",
        "   - **super()** ensures that the methods from parent classes are called in the correct order, particularly when there are multiple levels of inheritance.\n",
        "\n",
        " - **Avoiding Hardcoding :**\n",
        "   - Using **super()** avoids the need to explicitly reference parent class names, which makes the code more flexible and less error-prone. If we decide to change the class hierarchy, we won't need to update the method calls in subclasses.\n",
        "\n",
        " - **Multiple Inheritance :**\n",
        "   - **super()** helps resolve the diamond problem in multiple inheritance scenarios by ensuring that every class in the MRO gets a chance to contribute to the method call chain.\n",
        "\n",
        " - **Code Reusability :**\n",
        "   - With **super()**, we can call base class methods and extend or modify their behavior without having to rewrite them in the child class.\n",
        "\n",
        "- In short,\n",
        " - The **super()** function is powerful in Python for calling methods in parent classes, especially in inheritance hierarchies.\n",
        "\n",
        " - It helps avoid explicitly referencing parent classes, making your code more flexible and maintainable.\n",
        "\n",
        " - It plays a critical role in managing multiple inheritance by ensuring that methods are called in the correct order according to Python's MRO.\n",
        "\n",
        " - When working with class hierarchies, especially when overriding methods or constructors, **super()** allows us to extend and customize parent class behavior efficiently."
      ],
      "metadata": {
        "id": "8WbuE3DODn68"
      }
    },
    {
      "cell_type": "markdown",
      "source": [
        "**21.\tWhat is the significance of the __del__ method in Python ?**\n",
        "- The __ del __ method in Python is a special method known as a **destructor**. It is called when an object is about to be destroyed or garbage collected, allowing us to perform any necessary clean-up tasks before the object is removed from memory. This method is similar to destructors in other programming languages like C++.\n",
        "\n",
        "- **Significance of __ del __ :**\n",
        " - **Resource Cleanup :**\n",
        "   - The primary purpose of __ del __ is to handle resource cleanup when an object is no longer in use. This is particularly useful when dealing with external resources such as files, network connections, or database connections that need to be explicitly closed before the object is destroyed.\n",
        "\n",
        "  - **Automatic Garbage Collection :**\n",
        "   - Python uses a garbage collector to manage memory, which automatically frees up memory by destroying objects that are no longer referenced. The __ del __ method is called just before an object is destroyed by the garbage collector, allowing us to perform any final cleanup actions.\n",
        "\n",
        "  - **Avoiding Resource Leaks :**\n",
        "   - If an object manages resources (e.g., open files or network connections), __ del __ ensures that these resources are properly released when the object is no longer needed, helping to avoid resource leaks.\n",
        "\n",
        "- The **__ del __** method is called when the object's reference count drops to zero, indicating that there are no more references to the object, and it is about to be garbage collected.\n",
        "\n",
        "- Python's garbage collector schedules the **__ del __** method to be called automatically as part of the object’s destruction process. However, it is not always guaranteed when __ del __ will be invoked (it depends on when the object becomes unreachable and when the garbage collector decides to run)."
      ],
      "metadata": {
        "id": "d3miokvxDnvE"
      }
    },
    {
      "cell_type": "code",
      "source": [
        "# Example of __del__\n",
        "\n",
        "class MyClass:\n",
        "    def __init__(self, name):\n",
        "        self.name = name\n",
        "        print(f\"Object {self.name} created.\")\n",
        "\n",
        "    def __del__(self):\n",
        "        print(f\"Object {self.name} is being deleted.\")\n",
        "\n",
        "# Creating an object of MyClass\n",
        "obj = MyClass(\"Example Object\")\n",
        "del obj  # Explicitly deleting the object\n",
        "\n",
        "# Output:\n",
        "# Object Example Object created.\n",
        "# Object Example Object is being deleted.\n",
        "\n",
        "\n",
        "# In this example:\n",
        "     # When the object obj is created, the constructor (__init__) is called.\n",
        "     # When del obj is called, the destructor (__del__) is called, and the message \"Object Example Object is being deleted\" is printed.\n"
      ],
      "metadata": {
        "colab": {
          "base_uri": "https://localhost:8080/"
        },
        "id": "1G45ZWowRNro",
        "outputId": "535de287-d4a4-4cc8-e642-6532bd52f193"
      },
      "execution_count": null,
      "outputs": [
        {
          "output_type": "stream",
          "name": "stdout",
          "text": [
            "Object Example Object created.\n",
            "Object Example Object is being deleted.\n"
          ]
        }
      ]
    },
    {
      "cell_type": "markdown",
      "source": [
        "- In real-world use, the __ del __ method is typically invoked automatically when an object goes out of scope or is no longer referenced, not just when explicitly deleted using del.\n",
        "\n",
        "- **Key Points About __ del __ :**\n",
        " - **Not Always Guaranteed :**\n",
        "   - The exact timing of when __ del __ will be called is not guaranteed, especially when using cyclic references (when objects reference each other in a cycle). In such cases, objects might not be garbage collected immediately, or at all, leading to the __ del __ method not being called.\n",
        "\n",
        "   - In situations where the __ del __ method is used to clean up external resources (like file handles), it’s better to use explicit resource management techniques (e.g., using the with statement for files) rather than relying on __ del __.\n",
        "\n",
        " - **No Arguments :**\n",
        "   - The __ del __ method does not take any arguments (except self), and it cannot return a value.\n",
        "\n",
        " - **Potential Issues :**\n",
        "   - __ del __ can cause issues, especially in cases of circular references, where objects reference each other in a loop. In such cases, the garbage collector might not be able to properly destroy the objects, and the __ del __ method might never be called.\n",
        "\n",
        "   - Additionally, if an error occurs within the __ del __ method itself (for example, referencing an object that has already been deleted), it can be difficult to debug since exceptions in destructors are often ignored.\n",
        "\n",
        " - **Not Ideal for Critical Resource Management :**\n",
        "   - If we are managing resources like files or database connections, it is often better to use context managers (via the with statement) or explicit clean-up functions rather than relying on __ del __.\n",
        "\n",
        "\n",
        "\n",
        "- The __ del __ method in Python is a destructor method used to perform clean-up operations before an object is destroyed or garbage collected.\n",
        "\n",
        "- It is particularly useful for cleaning up resources like file handles, database connections, or network sockets, ensuring that these resources are released before the object is destroyed.\n",
        "\n",
        "- However, relying on __ del __ for critical resource management is generally not recommended. Using context managers (with statement) or explicit resource management strategies is a more reliable approach.\n",
        "\n",
        "- The __ del __ method is not guaranteed to be called immediately in all cases, especially in the presence of cyclic references, and can sometimes lead to issues that are difficult to debug."
      ],
      "metadata": {
        "id": "OutPFLrzRoRE"
      }
    },
    {
      "cell_type": "markdown",
      "source": [
        "**22.\tWhat is the difference between @staticmethod and @classmethod in Python ?**\n",
        "- In Python, both **@staticmethod** and **@classmethod** are decorators used to define methods that are bound to a class rather than to an instance of the class. However, they have distinct purposes and behavior.\n",
        "\n",
        "- **@staticmethod :**\n",
        " - A staticmethod is a method that does not depend on class or instance-specific data. It behaves like a regular function, but it belongs to the class's namespace. It doesn't take any reference to the instance (self) or the class (cls) as its first parameter. Therefore, a static method is not aware of the class or instance context at all.\n",
        "\n",
        " - **No access to instance (self) or class (cls):** It cannot modify the state of the instance or class. It operates independently and doesn't interact with the object’s attributes or methods.\n",
        "\n",
        " - **Used for utility functions :** staticmethod is generally used for utility functions that are related to the class, but do not need access to the instance or class data."
      ],
      "metadata": {
        "id": "uHgPUJz-Dlml"
      }
    },
    {
      "cell_type": "code",
      "source": [
        "# Syntax:\n",
        "\n",
        "class MyClass:\n",
        "    @staticmethod\n",
        "    def static_method():\n",
        "        print(\"This is a static method.\")"
      ],
      "metadata": {
        "id": "n9p7E4AVT1XT"
      },
      "execution_count": null,
      "outputs": []
    },
    {
      "cell_type": "code",
      "source": [
        "# Example ( @staticmethod )\n",
        "\n",
        "class MathOperations:\n",
        "    @staticmethod\n",
        "    def add(a, b):\n",
        "        return a + b\n",
        "\n",
        "# Calling static method without creating an instance of the class\n",
        "print(MathOperations.add(5, 10))  # Output: 15\n",
        "\n",
        "\n",
        "# In this case, add() is a static method that simply performs a calculation and does not need any reference to the class or instance.\n"
      ],
      "metadata": {
        "colab": {
          "base_uri": "https://localhost:8080/"
        },
        "id": "hvpTtPKUT7vh",
        "outputId": "9706f938-a595-48be-abc8-47fe05d3ee53"
      },
      "execution_count": null,
      "outputs": [
        {
          "output_type": "stream",
          "name": "stdout",
          "text": [
            "15\n"
          ]
        }
      ]
    },
    {
      "cell_type": "markdown",
      "source": [
        "- **@classmethod :**\n",
        " - A classmethod, on the other hand, is a method that is bound to the class and takes the class itself as its first argument (cls). This means it can access and modify class-level attributes and can also be used to create or manipulate class instances.\n",
        "\n",
        " - **Takes cls as the first parameter :** This method has access to the class itself but not to individual instance data. It can modify class-level attributes and call other class methods.\n",
        "\n",
        " - **Used for factory methods or operations that involve class-level data :** A common use case for class methods is to create alternative constructors (i.e., factory methods) for the class."
      ],
      "metadata": {
        "id": "yVXy2e5lUErS"
      }
    },
    {
      "cell_type": "code",
      "source": [
        "# Syntax:\n",
        "\n",
        "class MyClass:\n",
        "    @classmethod\n",
        "    def class_method(cls):\n",
        "        print(\"This is a class method.\")"
      ],
      "metadata": {
        "id": "M0SeMst6UFta"
      },
      "execution_count": null,
      "outputs": []
    },
    {
      "cell_type": "code",
      "source": [
        "# Example ( @classmethod )\n",
        "\n",
        "class Person:\n",
        "    species = \"Homo sapiens\"\n",
        "\n",
        "    def __init__(self, name, age):\n",
        "        self.name = name\n",
        "        self.age = age\n",
        "\n",
        "    @classmethod\n",
        "    def create_with_default_age(cls, name):\n",
        "        return cls(name, 30)  # Creates an instance with a default age of 30\n",
        "\n",
        "# Calling class method\n",
        "person = Person.create_with_default_age(\"Alice\")\n",
        "print(person.name)  # Output: Alice\n",
        "print(person.age)   # Output: 30\n",
        "\n",
        "\n",
        "# In this case, create_with_default_age() is a class method that uses the class (cls) to create a new instance of Person with a default age.\n"
      ],
      "metadata": {
        "colab": {
          "base_uri": "https://localhost:8080/"
        },
        "id": "qwKUfzq6UH9K",
        "outputId": "5be87f3f-b055-45e2-b302-139d98fcbdfc"
      },
      "execution_count": null,
      "outputs": [
        {
          "output_type": "stream",
          "name": "stdout",
          "text": [
            "Alice\n",
            "30\n"
          ]
        }
      ]
    },
    {
      "cell_type": "markdown",
      "source": [
        "- **Key Differences :**\n",
        "\n",
        "| **Feature**                        | **@staticmethod**                           | **@classmethod**                           |\n",
        "|---------------------------------|-------------------------------------------|------------------------------------------|\n",
        "| **First parameter**             | No special first parameter.               | Takes cls as the first parameter.     |\n",
        "| **Access to class/instance**   | Cannot access instance (self) or class (cls) attributes. | Can access class-level attributes and methods via cls. |\n",
        "| **Use cases**                   | Utility functions that don't need class or instance data. | Factory methods, class-level operations, or modifying class-level attributes. |\n",
        "| **Binding**                     | Bound to the class, but doesn't know anything about it. | Bound to the class and can access/modifies class data. |\n",
        "| **Call via class or instance**  | Can be called on either the class or an instance. | Typically called on the class, but can also be called from an instance. |\n"
      ],
      "metadata": {
        "id": "HQQjwa3nUOma"
      }
    },
    {
      "cell_type": "markdown",
      "source": [
        "- In short,\n",
        " - **@staticmethod :** A static method that does not have access to either the class or instance. It's used for utility methods related to the class but independent of instance-specific data.\n",
        "  \n",
        " - **@classmethod :** A class method that takes the class itself as the first argument (cls) and can access or modify class-level attributes. It’s often used for factory methods or operations that involve class-level data.\n",
        "\n",
        "- By using these decorators appropriately, we can create cleaner, more organized code that avoids unnecessary reliance on instance data where it is not needed."
      ],
      "metadata": {
        "id": "uxT8BphiUXJ6"
      }
    },
    {
      "cell_type": "markdown",
      "source": [
        "**23.\tHow does polymorphism work in Python with inheritance ?**\n",
        "- **Polymorphism** is a core concept in **object-oriented programming (OOP)** that allows objects of different classes to be treated as instances of the same class through a common interface.\n",
        "\n",
        "- In Python, polymorphism works particularly well with inheritance, enabling a parent class to define a method that can be overridden in child classes, allowing each subclass to implement its version of the method.\n",
        "\n",
        "- **Polymorphism in Python with Inheritance :**\n",
        " - In Python, **Polymorphism** can be achieved primarily through **method overriding**. This means that a method defined in a parent class can be redefined in a child class, allowing the child class to provide its own behavior while still maintaining the same interface.\n",
        "\n",
        "- **Key Aspects of Polymorphism :**\n",
        " - **Method Overriding :** The child class can define a method with the same name as one in the parent class, and the child class's version will be called when the method is invoked on instances of the child class.\n",
        "   \n",
        " - **Dynamic Dispatch :** When a method is called on an object, Python dynamically decides which version of the method to invoke based on the object's type (which is determined at runtime). This is how polymorphism is achieved in Python."
      ],
      "metadata": {
        "id": "tMXfp5ZjUXBi"
      }
    },
    {
      "cell_type": "code",
      "source": [
        "# EXAMPLE (Polymorphism in Python)\n",
        "\n",
        "# Here Polymorphism is demonstrated through inheritance.\n",
        "\n",
        "class Animal:\n",
        "    def speak(self):\n",
        "        return \"Animal speaks\"\n",
        "\n",
        "class Dog(Animal):\n",
        "    def speak(self):\n",
        "        return \"Dog barks\"\n",
        "\n",
        "class Cat(Animal):\n",
        "    def speak(self):\n",
        "        return \"Cat meows\"\n",
        "\n",
        "# Creating instances of Dog and Cat\n",
        "dog = Dog()\n",
        "cat = Cat()\n",
        "\n",
        "# Demonstrating polymorphism\n",
        "animals = [dog, cat]\n",
        "\n",
        "for animal in animals:\n",
        "    print(animal.speak())"
      ],
      "metadata": {
        "colab": {
          "base_uri": "https://localhost:8080/"
        },
        "id": "XJAOX4WlWz1X",
        "outputId": "4ca49b98-bde4-43b5-bb7d-d0cbc51f4b67"
      },
      "execution_count": null,
      "outputs": [
        {
          "output_type": "stream",
          "name": "stdout",
          "text": [
            "Dog barks\n",
            "Cat meows\n"
          ]
        }
      ]
    },
    {
      "cell_type": "markdown",
      "source": [
        "- **Explanation of the Example :**\n",
        " - The parent class Animal defines a method **speak()**, but the child classes Dog and Cat override this method to provide their specific implementations.\n",
        "\n",
        " - When we create instances of Dog and Cat, both instances are treated as Animal objects in the list animals.\n",
        "\n",
        " - In the loop, even though we iterate over a list of Animal objects, the method **speak()** is called on each object, and Python automatically calls the appropriate method based on the actual object type (Dog or Cat), not the reference type (Animal).\n",
        "\n",
        " - This behavior is the essence of **polymorphism**, where the same method (speak()) behaves differently depending on the object that invokes it.\n",
        "\n",
        "- **Benefits of Polymorphism with Inheritance :**\n",
        " - **Code Reusability :**\n",
        "   - We can reuse the parent class code and extend or modify the behavior in subclasses, without changing the interface of the method. This keeps our code clean and reduces redundancy.\n",
        "\n",
        " - **Flexibility :**\n",
        "   - Polymorphism makes the code more flexible and extensible. We can add new subclasses with specific behaviors without changing existing code.\n",
        "\n",
        " - **Interchangeability :**\n",
        "   - We can treat objects of different classes (that share a common parent class) in a uniform way, making your code more modular and adaptable.\n",
        "\n",
        "- **Polymorphism with Method Overloading and Multiple Inheritance :**\n",
        " - **Example of Method Overloading in Python :**\n",
        "   - Python does not support method overloading in the traditional sense (like Java or C++). However, we can simulate method overloading by using default arguments or variable-length arguments in the method."
      ],
      "metadata": {
        "id": "WBbAcNLhW1Gc"
      }
    },
    {
      "cell_type": "code",
      "source": [
        "# EXAMPLE (Method Overloading in Python)\n",
        "\n",
        "class Calculator:\n",
        "    def add(self, a, b, c=0):\n",
        "        return a + b + c\n",
        "\n",
        "calc = Calculator()\n",
        "print(calc.add(5, 10))      # Output: 15\n",
        "print(calc.add(5, 10, 15))  # Output: 30\n",
        "\n",
        "# In this example, the add() method can take either two or three arguments, simulating method overloading by providing a default value for the third argument.\n"
      ],
      "metadata": {
        "colab": {
          "base_uri": "https://localhost:8080/"
        },
        "id": "bzCTkllgXTK6",
        "outputId": "af0c4432-f1af-4e72-ca47-0126f69a0a60"
      },
      "execution_count": null,
      "outputs": [
        {
          "output_type": "stream",
          "name": "stdout",
          "text": [
            "15\n",
            "30\n"
          ]
        }
      ]
    },
    {
      "cell_type": "markdown",
      "source": [
        "- **Polymorphism with Multiple Inheritance :**\n",
        " - Polymorphism also works in Python with multiple inheritance. In cases of multiple inheritance, Python uses the **Method Resolution Order (MRO)** to determine which method to call."
      ],
      "metadata": {
        "id": "Cd19zCFdXVey"
      }
    },
    {
      "cell_type": "code",
      "source": [
        "# EXAMPLE (Polymorphism with Multiple Inheritance)\n",
        "\n",
        "class A:\n",
        "    def speak(self):\n",
        "        return \"Class A speaking\"\n",
        "\n",
        "class B:\n",
        "    def speak(self):\n",
        "        return \"Class B speaking\"\n",
        "\n",
        "class C(A, B):\n",
        "    def speak(self):\n",
        "        return \"Class C speaking\"\n",
        "\n",
        "# Creating an instance of class C\n",
        "c = C()\n",
        "print(c.speak())  # Output: Class C speaking\n",
        "\n",
        "# In the case of multiple inheritance, the method speak() in class C overrides the methods in both class A and class B. When we call speak() on an object of class C, Python uses the method defined in C, demonstrating polymorphism.\n"
      ],
      "metadata": {
        "colab": {
          "base_uri": "https://localhost:8080/"
        },
        "id": "X8637ikkXZkZ",
        "outputId": "0d7ca46b-d0a4-4bd1-e248-4f2b2f1bad3f"
      },
      "execution_count": null,
      "outputs": [
        {
          "output_type": "stream",
          "name": "stdout",
          "text": [
            "Class C speaking\n"
          ]
        }
      ]
    },
    {
      "cell_type": "markdown",
      "source": [
        "- **Key Points About Polymorphism in Python :**\n",
        " - **Dynamic Behavior :**\n",
        "   - Python's polymorphism is dynamic, meaning that the method to be invoked is determined at runtime, based on the actual type of the object.\n",
        "\n",
        "  - **Inheritance + Method Overriding :**\n",
        "   - The most common way to implement polymorphism is through inheritance and method overriding. Subclasses override methods in the parent class to provide their own implementation.\n",
        "\n",
        "  - **Loose Coupling :**\n",
        "   - Polymorphism promotes loose coupling, which means that classes are less dependent on each other. This leads to more modular and maintainable code.\n",
        "\n",
        "  - **Method Resolution Order (MRO) :**\n",
        "   - In cases of multiple inheritance, Python uses the MRO to decide the order in which base classes are searched for methods and attributes.\n",
        "\n",
        "- **Polymorphism** in **Python**, especially when combined with **inheritance**, allows us to write flexible, reusable, and maintainable code. It enables us to define methods in a parent class and then provide different implementations of those methods in subclasses.\n",
        "\n",
        "- **Python** automatically decides which method to call based on the object's type, making it easy to extend our codebase and add new functionality without breaking existing behavior."
      ],
      "metadata": {
        "id": "i2Iupn6YUWxL"
      }
    },
    {
      "cell_type": "markdown",
      "source": [
        "**24.\tWhat is method chaining in Python OOP ?**\n",
        "- **Method chaining** in Python refers to the practice of calling multiple methods on the same object in a single line of code. This is made possible because each method call returns the object itself (or another object that supports further method calls), allowing us to \"chain\" multiple method calls together.\n",
        "\n",
        "- In order for method chaining to work, each method in the chain must return the object (or another object) that the subsequent method should be called on. This is typically done by returning self, which represents the current instance of the class."
      ],
      "metadata": {
        "id": "1JcOkfYYUWir"
      }
    },
    {
      "cell_type": "code",
      "source": [
        "# EXAMPLE (Method Chaining)\n",
        "\n",
        "class Car:\n",
        "    def __init__(self, make, model):\n",
        "        self.make = make\n",
        "        self.model = model\n",
        "        self.color = None\n",
        "        self.year = None\n",
        "\n",
        "    def set_color(self, color):\n",
        "        self.color = color\n",
        "        return self  # Returning the object itself\n",
        "\n",
        "    def set_year(self, year):\n",
        "        self.year = year\n",
        "        return self  # Returning the object itself\n",
        "\n",
        "    def display_info(self):\n",
        "        print(f\"{self.year} {self.color} {self.make} {self.model}\")\n",
        "        return self  # Returning the object itself for chaining\n",
        "\n",
        "# Method chaining in action\n",
        "car = Car(\"Toyota\", \"Corolla\")\n",
        "car.set_color(\"Red\").set_year(2022).display_info()\n",
        "\n",
        "# Output: 2022 Red Toyota Corolla"
      ],
      "metadata": {
        "colab": {
          "base_uri": "https://localhost:8080/"
        },
        "id": "PQD9iLOibn_G",
        "outputId": "b3c1ee83-95cc-48cb-800c-4ed405e63143"
      },
      "execution_count": null,
      "outputs": [
        {
          "output_type": "stream",
          "name": "stdout",
          "text": [
            "2022 Red Toyota Corolla\n"
          ]
        },
        {
          "output_type": "execute_result",
          "data": {
            "text/plain": [
              "<__main__.Car at 0x783fdc568a90>"
            ]
          },
          "metadata": {},
          "execution_count": 14
        }
      ]
    },
    {
      "cell_type": "markdown",
      "source": [
        "- **Explanation of the Example :**\n",
        " - We create a Car class that has a constructor __ init __() and three methods: set_color(), set_year(), and display_info().\n",
        "\n",
        " - Each of the set_color() and set_year() methods sets an attribute on the Car object and returns self. This allows subsequent method calls to continue on the same object.\n",
        "\n",
        " - The display_info() method prints the car’s details and returns self, so it can be chained with other method calls if needed.\n",
        "\n",
        " - In the example, we instantiate a Car object and chain the method calls: set_color(\"Red\"), set_year(2022), and display_info() all in one line.\n",
        "\n",
        "- **Method Chaining is used when,**\n",
        " - **Configuration and Builder Patterns :** Method chaining is often used in **builder patterns**, where we set up an object’s properties step by step. For example, in constructing a complex object like a GUI component, a car configuration, or a database query.\n",
        "  \n",
        " - **Functional-style code :** When performing multiple operations on an object where each operation is independent and returns the same object, method chaining can make the code more expressive and functional in style.\n",
        "\n",
        "- In short,\n",
        " - **Method chaining** in Python is a technique where multiple methods are called on the same object in a single line.\n",
        "\n",
        " - It helps create more compact, readable, and expressive code.\n",
        "\n",
        " - The key to method chaining is that each method must return the object itself (via self), allowing for the next method to be invoked on the same object."
      ],
      "metadata": {
        "id": "F_mFdO1NcWyR"
      }
    },
    {
      "cell_type": "markdown",
      "source": [
        "**25.\tWhat is the purpose of the __ call __ method in Python ?**\n",
        "- The __ call __ method in Python is a special or \"dunder\" method that allows an instance of a class to be called as if it were a function.\n",
        "\n",
        "- In other words, when we define a __ call __ method in a class, we enable instances of that class to be \"invoked\" using the parentheses syntax, just like a regular function.\n",
        "\n",
        "- **Purpose of __ call __ :**\n",
        " - The __call__ method is useful in situations where we want an object to behave like a function. This can be particularly helpful in the following scenarios:\n",
        "  \n",
        "   - **Function-like Objects :** You might want to create objects that behave similarly to functions (e.g., to allow for configurable behaviors).\n",
        "\n",
        "   - **Encapsulation :** The __ call __ method can be used to encapsulate logic that you want to execute when an object is invoked as a function, providing a more intuitive interface for users of your class.\n",
        "\n",
        "   - **Callable Objects :** In cases where you want to simulate a callable (like a callback or a handler), __ call __ allows an object to be used in this way.\n",
        "\n",
        "- **How the __ call __ Method works :**\n",
        " - When the __ call __ method is implemented in a class, any attempt to call an instance of that class (e.g., instance()) will trigger the __ call __ method."
      ],
      "metadata": {
        "id": "FWrsf6G_Dlw1"
      }
    },
    {
      "cell_type": "code",
      "source": [
        "# Syntax of __call__\n",
        "\n",
        "class MyClass:\n",
        "    def __call__(self, *args, **kwargs):\n",
        "        print(\"Object called with arguments:\", args, kwargs)\n",
        "\n",
        "# Creating an instance of MyClass\n",
        "obj = MyClass()\n",
        "\n",
        "# Calling the object like a function\n",
        "obj(1, 2, 3, name=\"Alice\")  # Output: Object called with arguments: (1, 2, 3) {'name': 'Alice'}"
      ],
      "metadata": {
        "colab": {
          "base_uri": "https://localhost:8080/"
        },
        "id": "-ExJ9GGihfj9",
        "outputId": "89b09028-a949-4bdf-9746-89d688b71feb"
      },
      "execution_count": null,
      "outputs": [
        {
          "output_type": "stream",
          "name": "stdout",
          "text": [
            "Object called with arguments: (1, 2, 3) {'name': 'Alice'}\n"
          ]
        }
      ]
    },
    {
      "cell_type": "markdown",
      "source": [
        "- **Explanation :**\n",
        " - In this example, MyClass defines the __ call __ method.\n",
        "\n",
        " - When we create an instance of MyClass (obj = MyClass()) and then call obj(1, 2, 3, name=\"Alice\"), Python automatically invokes the __ call __ method on obj, passing the arguments (1, 2, 3) and {'name': 'Alice'} to the method.\n",
        "\n",
        " - The __ call __ method is receiving the arguments and printing them."
      ],
      "metadata": {
        "id": "V-_kRkflgPNo"
      }
    },
    {
      "cell_type": "markdown",
      "source": [
        "- **Use Cases for __ call __ :**\n",
        " - **Creating Function-like Objects :**\n",
        "   We can use __ call __ to create objects that act like functions, which can be helpful for situations such as creating objects for mathematical models, event handlers, or even closures."
      ],
      "metadata": {
        "id": "q1w_t6dUh0YJ"
      }
    },
    {
      "cell_type": "code",
      "source": [
        "# Example:\n",
        "\n",
        "class Adder:\n",
        "    def __init__(self, value):\n",
        "        self.value = value\n",
        "\n",
        "    def __call__(self, x):\n",
        "        return self.value + x\n",
        "\n",
        "add_five = Adder(5)\n",
        "print(add_five(10))  # Output: 15 (10 + 5)\n",
        "\n",
        "# In this example, the Adder class is designed to act like a function that adds a specific value to an argument. The instance add_five behaves like a function and adds 5 to the given argument.\n"
      ],
      "metadata": {
        "colab": {
          "base_uri": "https://localhost:8080/"
        },
        "id": "uUYpdhTtgNta",
        "outputId": "80d72bbc-948d-4dd9-e564-3ad0d3f6a08f"
      },
      "execution_count": null,
      "outputs": [
        {
          "output_type": "stream",
          "name": "stdout",
          "text": [
            "15\n"
          ]
        }
      ]
    },
    {
      "cell_type": "markdown",
      "source": [
        "- - **Callbacks :** The __ call __ method is useful when we need to pass objects as callbacks. For instance, we can define objects that handle a specific action when invoked."
      ],
      "metadata": {
        "id": "TyBpCyfZiTy2"
      }
    },
    {
      "cell_type": "code",
      "source": [
        "   # EXAMPLE (Callbacks)\n",
        "\n",
        "   class Greeting:\n",
        "       def __call__(self, name):\n",
        "           print(f\"Hello, {name}!\")\n",
        "\n",
        "   greet = Greeting()\n",
        "   greet(\"Alice\")  # Output: Hello, Alice!\n",
        "\n",
        "\n",
        "   # Here, the Greeting class has a __call__ method that prints a greeting when called.\n"
      ],
      "metadata": {
        "colab": {
          "base_uri": "https://localhost:8080/"
        },
        "id": "a2DRf8RViS39",
        "outputId": "f883319a-aee1-4cd6-f826-0aabb5d61127"
      },
      "execution_count": null,
      "outputs": [
        {
          "output_type": "stream",
          "name": "stdout",
          "text": [
            "Hello, Alice!\n"
          ]
        }
      ]
    },
    {
      "cell_type": "markdown",
      "source": [
        "- - **Currying or Partial Functions :** The __ call __ method can be used to implement currying or partial functions, where some arguments are fixed in advance."
      ],
      "metadata": {
        "id": "HTrciXFsiSu-"
      }
    },
    {
      "cell_type": "code",
      "source": [
        "   # EXAMPLE (Currying or Partial Functions)\n",
        "\n",
        "   class Multiplier:\n",
        "       def __init__(self, factor):\n",
        "           self.factor = factor\n",
        "\n",
        "       def __call__(self, number):\n",
        "           return self.factor * number\n",
        "\n",
        "   double = Multiplier(2)\n",
        "   triple = Multiplier(3)\n",
        "\n",
        "   print(double(5))  # Output: 10\n",
        "   print(triple(5))  # Output: 15\n",
        "\n",
        "   # Here, Multiplier objects act like functions that multiply a given number by a fixed factor.\n"
      ],
      "metadata": {
        "colab": {
          "base_uri": "https://localhost:8080/"
        },
        "id": "Qo5K4Ww1iSkN",
        "outputId": "c378e95e-9e6b-47f7-f4d8-3531b4886883"
      },
      "execution_count": null,
      "outputs": [
        {
          "output_type": "stream",
          "name": "stdout",
          "text": [
            "10\n",
            "15\n"
          ]
        }
      ]
    },
    {
      "cell_type": "markdown",
      "source": [
        "- - **Memoization / Caching :** We could use __ call __ to implement caching or memoization of expensive function calls, where the object stores results of previous computations."
      ],
      "metadata": {
        "id": "E30FjZIeiSZ1"
      }
    },
    {
      "cell_type": "code",
      "source": [
        "   # EXAMPLE (Memoization / Caching)\n",
        "\n",
        "   class Memoizer:\n",
        "       def __init__(self, func):\n",
        "           self.func = func\n",
        "           self.cache = {}\n",
        "\n",
        "       def __call__(self, *args):\n",
        "           if args not in self.cache:\n",
        "               self.cache[args] = self.func(*args)\n",
        "           return self.cache[args]\n",
        "\n",
        "   def slow_function(x):\n",
        "       print(\"Computing...\")\n",
        "       return x * x\n",
        "\n",
        "   memoized = Memoizer(slow_function)\n",
        "   print(memoized(4))  # Output: Computing... 16\n",
        "   print(memoized(4))  # Output: 16 (cached)\n",
        "\n",
        "\n",
        "   # Here, Memoizer is a callable object that caches results of expensive function calls.\n"
      ],
      "metadata": {
        "colab": {
          "base_uri": "https://localhost:8080/"
        },
        "id": "sYcXBPQ1iSP8",
        "outputId": "4438a663-04f2-4911-a0a3-fb2b33c6a723"
      },
      "execution_count": null,
      "outputs": [
        {
          "output_type": "stream",
          "name": "stdout",
          "text": [
            "Computing...\n",
            "16\n",
            "16\n"
          ]
        }
      ]
    },
    {
      "cell_type": "markdown",
      "source": [
        "- - **Advanced Example : Callable Object as a Decorator** Another advanced use case is using __ call __ to create decorators. Here's an example where we use __ call __ to create a decorator that times a function execution:"
      ],
      "metadata": {
        "id": "AHqVBlLCiSFu"
      }
    },
    {
      "cell_type": "code",
      "source": [
        "# EXAMPLE (Callable Object as a Decorator)\n",
        "\n",
        "import time\n",
        "\n",
        "class Timer:\n",
        "    def __init__(self, func):\n",
        "        self.func = func\n",
        "\n",
        "    def __call__(self, *args, **kwargs):\n",
        "        start_time = time.time()\n",
        "        result = self.func(*args, **kwargs)\n",
        "        end_time = time.time()\n",
        "        print(f\"{self.func.__name__} took {end_time - start_time:.5f} seconds to execute.\")\n",
        "        return result\n",
        "\n",
        "@Timer\n",
        "def slow_function():\n",
        "    time.sleep(2)\n",
        "\n",
        "slow_function()  # Output: slow_function took 2.00012 seconds to execute.\n",
        "\n",
        "# In this case, Timer is a callable object that acts like a decorator to time the execution of functions.\n"
      ],
      "metadata": {
        "colab": {
          "base_uri": "https://localhost:8080/"
        },
        "id": "GzfthIfJiR7G",
        "outputId": "9dc11e9e-0d4e-40c4-a466-42dfb8925b52"
      },
      "execution_count": null,
      "outputs": [
        {
          "output_type": "stream",
          "name": "stdout",
          "text": [
            "slow_function took 2.00015 seconds to execute.\n"
          ]
        }
      ]
    },
    {
      "cell_type": "markdown",
      "source": [
        "- In short,\n",
        " - The __ call __ method in Python allows instances of a class to be called like functions.\n",
        "\n",
        " - It is useful when we want to create objects that behave functionally, act as callbacks, implement currying, or even create decorators.\n",
        "\n",
        " - The __ call __ method provides a flexible and powerful way to define callable objects in Python."
      ],
      "metadata": {
        "id": "lG4DfBmjiRvz"
      }
    },
    {
      "cell_type": "markdown",
      "source": [
        "**PRACTICAL QUESTIONS**"
      ],
      "metadata": {
        "id": "31gAA2IS7BUA"
      }
    },
    {
      "cell_type": "markdown",
      "source": [
        "**1. Create a parent class Animal with a method speak() that prints a generic message. Create a child class Dog\n",
        "that overrides the speak() method to print \"Bark!\".**"
      ],
      "metadata": {
        "id": "WGwh10Vb7Uqw"
      }
    },
    {
      "cell_type": "code",
      "execution_count": null,
      "metadata": {
        "colab": {
          "base_uri": "https://localhost:8080/"
        },
        "id": "vC_WR9nV6vbP",
        "outputId": "9294215e-f977-487e-8775-f1b864431075"
      },
      "outputs": [
        {
          "output_type": "stream",
          "name": "stdout",
          "text": [
            "Some generic animal sound\n",
            "Bark!\n"
          ]
        }
      ],
      "source": [
        "# Parent class\n",
        "class Animal:\n",
        "    def speak(self):\n",
        "        print(\"Some generic animal sound\")\n",
        "\n",
        "# Child class\n",
        "class Dog(Animal):\n",
        "    def speak(self):\n",
        "        print(\"Bark!\")\n",
        "\n",
        "# Creating instances\n",
        "animal = Animal()\n",
        "dog = Dog()\n",
        "\n",
        "# Calling the speak method\n",
        "animal.speak()\n",
        "dog.speak()"
      ]
    },
    {
      "cell_type": "markdown",
      "source": [
        "**2. Write a program to create an abstract class Shape with a method area(). Derive classes Circle and Rectangle\n",
        "from it and implement the area() method in both.**"
      ],
      "metadata": {
        "id": "DRM8BwSd8Xcq"
      }
    },
    {
      "cell_type": "code",
      "source": [
        "from abc import ABC, abstractmethod\n",
        "import math\n",
        "\n",
        "# Abstract base class\n",
        "class Shape(ABC):\n",
        "\n",
        "    @abstractmethod\n",
        "    def area(self):\n",
        "        pass\n",
        "\n",
        "# Derived class Circle\n",
        "class Circle(Shape):\n",
        "    def __init__(self, radius):\n",
        "        self.radius = radius\n",
        "\n",
        "    def area(self):\n",
        "        return math.pi * self.radius ** 2\n",
        "\n",
        "# Derived class Rectangle\n",
        "class Rectangle(Shape):\n",
        "    def __init__(self, length, width):\n",
        "        self.length = length\n",
        "        self.width = width\n",
        "\n",
        "    def area(self):\n",
        "        return self.length * self.width\n",
        "\n",
        "# Creating instances\n",
        "circle = Circle(5)\n",
        "rectangle = Rectangle(4, 6)\n",
        "\n",
        "# Calling the area method\n",
        "print(f\"Area of Circle: {circle.area()}\")\n",
        "print(f\"Area of Rectangle: {rectangle.area()}\")"
      ],
      "metadata": {
        "colab": {
          "base_uri": "https://localhost:8080/"
        },
        "id": "qi-Mg_sA9gKn",
        "outputId": "df8e50b0-6036-4d5c-8a33-26ad7749a593"
      },
      "execution_count": null,
      "outputs": [
        {
          "output_type": "stream",
          "name": "stdout",
          "text": [
            "Area of Circle: 78.53981633974483\n",
            "Area of Rectangle: 24\n"
          ]
        }
      ]
    },
    {
      "cell_type": "markdown",
      "source": [
        "**3. Implement a multi-level inheritance scenario where a class Vehicle has an attribute type. Derive a class Car\n",
        "and further derive a class ElectricCar that adds a battery attribute.**"
      ],
      "metadata": {
        "id": "celZzixC8X1Z"
      }
    },
    {
      "cell_type": "code",
      "source": [
        "# Base class\n",
        "class Vehicle:\n",
        "    def __init__(self, type):\n",
        "        self.type = type\n",
        "\n",
        "    def display_type(self):\n",
        "        print(f\"Vehicle type: {self.type}\")\n",
        "\n",
        "# Derived class Car\n",
        "class Car(Vehicle):\n",
        "    def __init__(self, type, brand):\n",
        "        super().__init__(type)    # Call the constructor of the Vehicle class\n",
        "        self.brand = brand\n",
        "\n",
        "    def display_brand(self):\n",
        "        print(f\"Car brand: {self.brand}\")\n",
        "\n",
        "# Further derived class ElectricCar\n",
        "class ElectricCar(Car):\n",
        "    def __init__(self, type, brand, battery):\n",
        "        super().__init__(type, brand)    # Call the constructor of the Car class\n",
        "        self.battery = battery\n",
        "\n",
        "    def display_battery(self):\n",
        "        print(f\"Electric car battery: {self.battery} kWh\")\n",
        "\n",
        "# Creating an instance of ElectricCar\n",
        "electric_car = ElectricCar(\"Electric\", \"Tesla\", 75)\n",
        "\n",
        "# Calling methods to display attributes\n",
        "electric_car.display_type()\n",
        "electric_car.display_brand()\n",
        "electric_car.display_battery()"
      ],
      "metadata": {
        "colab": {
          "base_uri": "https://localhost:8080/"
        },
        "id": "4wuJQ2RA-eNG",
        "outputId": "118575f8-dce4-4cbf-d414-23198c4f3665"
      },
      "execution_count": null,
      "outputs": [
        {
          "output_type": "stream",
          "name": "stdout",
          "text": [
            "Vehicle type: Electric\n",
            "Car brand: Tesla\n",
            "Electric car battery: 75 kWh\n"
          ]
        }
      ]
    },
    {
      "cell_type": "markdown",
      "source": [
        "**4. Demonstrate polymorphism by creating a base class Bird with a method fly(). Create two derived classes\n",
        "Sparrow and Penguin that override the fly() method.**"
      ],
      "metadata": {
        "id": "JGpVsPHL8YKO"
      }
    },
    {
      "cell_type": "code",
      "source": [
        "# Base class\n",
        "class Bird:\n",
        "    def fly(self):\n",
        "        print(\"This bird can fly.\")\n",
        "\n",
        "# Derived class Sparrow\n",
        "class Sparrow(Bird):\n",
        "    def fly(self):\n",
        "        print(\"The sparrow is flying.\")\n",
        "\n",
        "# Derived class Penguin\n",
        "class Penguin(Bird):\n",
        "    def fly(self):\n",
        "        print(\"The penguin cannot fly.\")\n",
        "\n",
        "# Creating instances\n",
        "bird = Bird()\n",
        "sparrow = Sparrow()\n",
        "penguin = Penguin()\n",
        "\n",
        "# Demonstrating polymorphism\n",
        "bird.fly()\n",
        "sparrow.fly()\n",
        "penguin.fly()"
      ],
      "metadata": {
        "colab": {
          "base_uri": "https://localhost:8080/"
        },
        "id": "UXMyBKSz8YXH",
        "outputId": "a456ead6-e8b9-4992-b332-503dbb7ca5c9"
      },
      "execution_count": null,
      "outputs": [
        {
          "output_type": "stream",
          "name": "stdout",
          "text": [
            "This bird can fly.\n",
            "The sparrow is flying.\n",
            "The penguin cannot fly.\n"
          ]
        }
      ]
    },
    {
      "cell_type": "markdown",
      "source": [
        "**5. Write a program to demonstrate encapsulation by creating a class BankAccount with private attributes\n",
        "balance and methods to deposit, withdraw, and check balance.**"
      ],
      "metadata": {
        "id": "XRQpWXWP8YgX"
      }
    },
    {
      "cell_type": "code",
      "source": [
        "class BankAccount:\n",
        "    def __init__(self, initial_balance=0):\n",
        "        self.__balance = initial_balance  # Private attribute\n",
        "\n",
        "    # Method to deposit money\n",
        "    def deposit(self, amount):\n",
        "        if amount > 0:\n",
        "            self.__balance += amount\n",
        "            print(f\"Deposited: ${amount}\")\n",
        "        else:\n",
        "            print(\"Deposit amount must be positive.\")\n",
        "\n",
        "    # Method to withdraw money\n",
        "    def withdraw(self, amount):\n",
        "        if 0 < amount <= self.__balance:\n",
        "            self.__balance -= amount\n",
        "            print(f\"Withdrawn: ${amount}\")\n",
        "        else:\n",
        "            print(\"Insufficient funds or invalid withdrawal amount.\")\n",
        "\n",
        "    # Method to check the balance\n",
        "    def check_balance(self):\n",
        "        return f\"Current balance: ${self.__balance}\"\n",
        "\n",
        "# Create an instance of BankAccount\n",
        "account = BankAccount(1000)\n",
        "\n",
        "# Deposit money\n",
        "account.deposit(500)\n",
        "\n",
        "# Withdraw money\n",
        "account.withdraw(200)\n",
        "\n",
        "# Check balance\n",
        "print(account.check_balance())\n",
        "\n",
        "# Trying to access private balance directly will result in an error\n",
        "# print(account.__balance)  # This will raise an AttributeError"
      ],
      "metadata": {
        "colab": {
          "base_uri": "https://localhost:8080/"
        },
        "id": "aybkz_1WADSm",
        "outputId": "c6b8b3b5-b106-4510-bff6-9df89b8fd4f9"
      },
      "execution_count": null,
      "outputs": [
        {
          "output_type": "stream",
          "name": "stdout",
          "text": [
            "Deposited: $500\n",
            "Withdrawn: $200\n",
            "Current balance: $1300\n"
          ]
        }
      ]
    },
    {
      "cell_type": "markdown",
      "source": [
        "**6. Demonstrate runtime polymorphism using a method play() in a base class Instrument. Derive classes Guitar\n",
        "and Piano that implement their own version of play().**"
      ],
      "metadata": {
        "id": "vlvMarID8Y0X"
      }
    },
    {
      "cell_type": "code",
      "source": [
        "# Base class\n",
        "class Instrument:\n",
        "    def play(self):\n",
        "        print(\"The instrument is being played.\")\n",
        "\n",
        "# Derived class Guitar\n",
        "class Guitar(Instrument):\n",
        "    def play(self):\n",
        "        print(\"The guitar is being strummed.\")\n",
        "\n",
        "# Derived class Piano\n",
        "class Piano(Instrument):\n",
        "    def play(self):\n",
        "        print(\"The piano is being played.\")\n",
        "\n",
        "# Function to demonstrate runtime polymorphism\n",
        "def play_instrument(instrument):\n",
        "    instrument.play()\n",
        "\n",
        "# Creating instances of the derived classes\n",
        "guitar = Guitar()\n",
        "piano = Piano()\n",
        "\n",
        "# Demonstrating runtime polymorphism\n",
        "play_instrument(guitar)\n",
        "play_instrument(piano)"
      ],
      "metadata": {
        "colab": {
          "base_uri": "https://localhost:8080/"
        },
        "id": "kvlQzANR8Y_J",
        "outputId": "fa1f1739-4519-491e-cfee-44cc9ea7d34b"
      },
      "execution_count": null,
      "outputs": [
        {
          "output_type": "stream",
          "name": "stdout",
          "text": [
            "The guitar is being strummed.\n",
            "The piano is being played.\n"
          ]
        }
      ]
    },
    {
      "cell_type": "markdown",
      "source": [
        "**7. Create a class MathOperations with a class method add_numbers() to add two numbers and a static\n",
        "method subtract_numbers() to subtract two numbers.**"
      ],
      "metadata": {
        "id": "-jHbgpun8ZI3"
      }
    },
    {
      "cell_type": "code",
      "source": [
        "class MathOperations:\n",
        "    # Class method to add two numbers\n",
        "    @classmethod\n",
        "    def add_numbers(cls, num1, num2):\n",
        "        return num1 + num2\n",
        "\n",
        "    # Static method to subtract two numbers\n",
        "    @staticmethod\n",
        "    def subtract_numbers(num1, num2):\n",
        "        return num1 - num2\n",
        "\n",
        "# Using the class method and static method\n",
        "sum_result = MathOperations.add_numbers(10, 5)\n",
        "difference_result = MathOperations.subtract_numbers(10, 5)\n",
        "\n",
        "print(f\"Sum: {sum_result}\")\n",
        "print(f\"Difference: {difference_result}\")"
      ],
      "metadata": {
        "colab": {
          "base_uri": "https://localhost:8080/"
        },
        "id": "jWmc80Rx8ZSe",
        "outputId": "b723daf6-e3ef-43d4-bcc7-6c81cc8f98a7"
      },
      "execution_count": null,
      "outputs": [
        {
          "output_type": "stream",
          "name": "stdout",
          "text": [
            "Sum: 15\n",
            "Difference: 5\n"
          ]
        }
      ]
    },
    {
      "cell_type": "markdown",
      "source": [
        "**8. Implement a class Person with a class method to count the total number of persons created.**"
      ],
      "metadata": {
        "id": "urZl_CZl8ZeX"
      }
    },
    {
      "cell_type": "code",
      "source": [
        "class Person:\n",
        "    # Class variable to count the total number of persons created\n",
        "    total_persons = 0\n",
        "\n",
        "    def __init__(self, name, age):\n",
        "        self.name = name\n",
        "        self.age = age\n",
        "        # Increment the count every time a new person is created\n",
        "        Person.total_persons += 1\n",
        "\n",
        "    # Class method to get the total number of persons\n",
        "    @classmethod\n",
        "    def get_total_persons(cls):\n",
        "        return cls.total_persons\n",
        "\n",
        "# Creating instances of the Person class\n",
        "person1 = Person(\"Alice\", 30)\n",
        "person2 = Person(\"Bob\", 25)\n",
        "person3 = Person(\"Charlie\", 35)\n",
        "\n",
        "# Getting the total number of persons created\n",
        "print(f\"Total number of persons created: {Person.get_total_persons()}\")"
      ],
      "metadata": {
        "colab": {
          "base_uri": "https://localhost:8080/"
        },
        "id": "wxopytGVCKgO",
        "outputId": "ff2744d3-acf2-4d79-d10d-32a7f6a32698"
      },
      "execution_count": null,
      "outputs": [
        {
          "output_type": "stream",
          "name": "stdout",
          "text": [
            "Total number of persons created: 3\n"
          ]
        }
      ]
    },
    {
      "cell_type": "markdown",
      "source": [
        "**9. Write a class Fraction with attributes numerator and denominator. Override the str method to display the\n",
        "fraction as \"numerator/denominator\".**"
      ],
      "metadata": {
        "id": "y67l6ql78Z0n"
      }
    },
    {
      "cell_type": "code",
      "source": [
        "class Fraction:\n",
        "    def __init__(self, numerator, denominator):\n",
        "        self.numerator = numerator\n",
        "        self.denominator = denominator\n",
        "\n",
        "    # Override the __str__ method to display the fraction as \"numerator/denominator\"\n",
        "    def __str__(self):\n",
        "        return f\"{self.numerator}/{self.denominator}\"\n",
        "\n",
        "# Creating an instance of Fraction\n",
        "fraction = Fraction(3, 4)\n",
        "\n",
        "# Printing the fraction using the overridden __str__ method\n",
        "print(fraction)"
      ],
      "metadata": {
        "colab": {
          "base_uri": "https://localhost:8080/"
        },
        "id": "y5uw34n3C5rU",
        "outputId": "662ec5c3-9d50-41ea-ddf1-7d1d857d52f3"
      },
      "execution_count": null,
      "outputs": [
        {
          "output_type": "stream",
          "name": "stdout",
          "text": [
            "3/4\n"
          ]
        }
      ]
    },
    {
      "cell_type": "markdown",
      "source": [
        "**10. Demonstrate operator overloading by creating a class Vector and overriding the add method to add two\n",
        "vectors.**"
      ],
      "metadata": {
        "id": "DfJVbck38aKS"
      }
    },
    {
      "cell_type": "code",
      "source": [
        "class Vector:\n",
        "    def __init__(self, x, y):\n",
        "        self.x = x\n",
        "        self.y = y\n",
        "\n",
        "    # Overloading the + operator to add two vectors\n",
        "    def __add__(self, other):\n",
        "        # Adding corresponding components of two vectors\n",
        "        return Vector(self.x + other.x, self.y + other.y)\n",
        "\n",
        "    # Method to display the vector\n",
        "    def __str__(self):\n",
        "        return f\"({self.x}, {self.y})\"\n",
        "\n",
        "# Creating two Vector instances\n",
        "vector1 = Vector(1, 2)\n",
        "vector2 = Vector(3, 4)\n",
        "\n",
        "# Adding two vectors using the overloaded + operator\n",
        "result = vector1 + vector2\n",
        "\n",
        "print(f\"Vector 1: {vector1}\")\n",
        "print(f\"Vector 2: {vector2}\")\n",
        "print(f\"Sum: {result}\")"
      ],
      "metadata": {
        "colab": {
          "base_uri": "https://localhost:8080/"
        },
        "id": "zE7wlEw1DfY7",
        "outputId": "1d3cf5b2-c7d7-4460-fee0-4809f0416d0c"
      },
      "execution_count": null,
      "outputs": [
        {
          "output_type": "stream",
          "name": "stdout",
          "text": [
            "Vector 1: (1, 2)\n",
            "Vector 2: (3, 4)\n",
            "Sum: (4, 6)\n"
          ]
        }
      ]
    },
    {
      "cell_type": "markdown",
      "source": [
        "**11. Create a class Person with attributes name and age. Add a method greet() that prints \"Hello, my name is\n",
        "{name} and I am {age} years old.\"**"
      ],
      "metadata": {
        "id": "rGhoq7Tg8ae3"
      }
    },
    {
      "cell_type": "code",
      "source": [
        "class Person:\n",
        "    def __init__(self, name, age):\n",
        "        self.name = name  # Attribute to store the person's name\n",
        "        self.age = age    # Attribute to store the person's age\n",
        "\n",
        "    # Method to greet\n",
        "    def greet(self):\n",
        "        print(f\"Hello, my name is {self.name} and I am {self.age} years old.\")\n",
        "\n",
        "# Creating an instance of Person\n",
        "person1 = Person(\"Satyam\", 24)\n",
        "\n",
        "# Calling the greet method\n",
        "person1.greet()"
      ],
      "metadata": {
        "colab": {
          "base_uri": "https://localhost:8080/"
        },
        "id": "hqkdelePEcyE",
        "outputId": "90361e26-f112-40d1-d53f-b461f8a5e022"
      },
      "execution_count": null,
      "outputs": [
        {
          "output_type": "stream",
          "name": "stdout",
          "text": [
            "Hello, my name is Satyam and I am 24 years old.\n"
          ]
        }
      ]
    },
    {
      "cell_type": "markdown",
      "source": [
        "**12. Implement a class Student with attributes name and grades. Create a method average_grade() to compute\n",
        "the average of the grades.**"
      ],
      "metadata": {
        "id": "Y2Rej0AA8a1-"
      }
    },
    {
      "cell_type": "code",
      "source": [
        "class Student:\n",
        "    def __init__(self, name, grades):\n",
        "        self.name = name       # Attribute to store the student's name\n",
        "        self.grades = grades   # Attribute to store the list of grades\n",
        "\n",
        "    # Method to calculate the average grade\n",
        "    def average_grade(self):\n",
        "        if len(self.grades) == 0:\n",
        "            return 0  # Return 0 if no grades are available to avoid division by zero\n",
        "        return sum(self.grades) / len(self.grades)\n",
        "\n",
        "# Creating an instance of Student\n",
        "student1 = Student(\"Satyam\", [90, 85, 88, 92])\n",
        "\n",
        "# Calling the average_grade method\n",
        "average = student1.average_grade()\n",
        "\n",
        "print(f\"{student1.name}'s average grade is: {average:.2f}\")"
      ],
      "metadata": {
        "colab": {
          "base_uri": "https://localhost:8080/"
        },
        "id": "eEq6nlxi8a__",
        "outputId": "f442e5aa-51e0-4479-bab9-218b5a185c93"
      },
      "execution_count": null,
      "outputs": [
        {
          "output_type": "stream",
          "name": "stdout",
          "text": [
            "Satyam's average grade is: 88.75\n"
          ]
        }
      ]
    },
    {
      "cell_type": "markdown",
      "source": [
        "**13.  Create a class Rectangle with methods set_dimensions() to set the dimensions and area() to calculate the\n",
        "area.**"
      ],
      "metadata": {
        "id": "m_PqxmkK8bLC"
      }
    },
    {
      "cell_type": "code",
      "source": [
        "class Rectangle:\n",
        "    def __init__(self):\n",
        "        # Initialize dimensions\n",
        "        self.length = 0\n",
        "        self.width = 0\n",
        "\n",
        "    def set_dimensions(self, length, width):\n",
        "        # Set the length and width of the rectangle\n",
        "        self.length = length\n",
        "        self.width = width\n",
        "\n",
        "    def area(self):\n",
        "        # Calculate the area of the rectangle\n",
        "        return self.length * self.width\n",
        "\n",
        "#EXAMPLE\n",
        "# Create a rectangle object\n",
        "rect = Rectangle()\n",
        "\n",
        "# Set dimensions\n",
        "rect.set_dimensions(5, 3)\n",
        "\n",
        "# Calculate and print area\n",
        "print(\"Area of rectangle:\", rect.area())"
      ],
      "metadata": {
        "colab": {
          "base_uri": "https://localhost:8080/"
        },
        "id": "_ThC06Wk8bTn",
        "outputId": "1948e47f-36f2-426d-868e-cff49ac7d111"
      },
      "execution_count": null,
      "outputs": [
        {
          "output_type": "stream",
          "name": "stdout",
          "text": [
            "Area of rectangle: 15\n"
          ]
        }
      ]
    },
    {
      "cell_type": "markdown",
      "source": [
        "**14. Create a class Employee with a method calculate_salary() that computes the salary based on hours worked\n",
        "and hourly rate. Create a derived class Manager that adds a bonus to the salary.**"
      ],
      "metadata": {
        "id": "cvLXYxeM8bew"
      }
    },
    {
      "cell_type": "code",
      "source": [
        "# Base class Employee\n",
        "class Employee:\n",
        "    def __init__(self, name, hours_worked, hourly_rate):\n",
        "        self.name = name\n",
        "        self.hours_worked = hours_worked\n",
        "        self.hourly_rate = hourly_rate\n",
        "\n",
        "    def calculate_salary(self):\n",
        "        # Calculate salary based on hours worked and hourly rate\n",
        "        return self.hours_worked * self.hourly_rate\n",
        "\n",
        "# Derived class Manager\n",
        "class Manager(Employee):\n",
        "    def __init__(self, name, hours_worked, hourly_rate, bonus):\n",
        "        # Initialize the parent class (Employee)\n",
        "        super().__init__(name, hours_worked, hourly_rate)\n",
        "        self.bonus = bonus\n",
        "\n",
        "    def calculate_salary(self):\n",
        "        # Calculate salary and add bonus for Manager\n",
        "        base_salary = super().calculate_salary()\n",
        "        return base_salary + self.bonus\n",
        "\n",
        "# Usage Example\n",
        "employee = Employee(\"John\", 160, 25)    # 160 hours worked, $25 per hour\n",
        "manager = Manager(\"Alice\", 160, 30, 5000)    # 160 hours worked, $30 per hour, $5000 bonus\n",
        "\n",
        "# Output salaries\n",
        "print(f\"Employee Salary: ${employee.calculate_salary()}\")\n",
        "print(f\"Manager Salary (including bonus): ${manager.calculate_salary()}\")"
      ],
      "metadata": {
        "colab": {
          "base_uri": "https://localhost:8080/"
        },
        "id": "paDZo7sr8boq",
        "outputId": "7366794b-54d2-4855-fd51-02c8aa57533f"
      },
      "execution_count": null,
      "outputs": [
        {
          "output_type": "stream",
          "name": "stdout",
          "text": [
            "Employee Salary: $4000\n",
            "Manager Salary (including bonus): $9800\n"
          ]
        }
      ]
    },
    {
      "cell_type": "markdown",
      "source": [
        "**15. Create a class Product with attributes name, price, and quantity. Implement a method total_price() that\n",
        "calculates the total price of the product.**"
      ],
      "metadata": {
        "id": "QL3P3aek8cI_"
      }
    },
    {
      "cell_type": "code",
      "source": [
        "class Product:\n",
        "    def __init__(self, name, price, quantity):\n",
        "        self.name = name\n",
        "        self.price = price\n",
        "        self.quantity = quantity\n",
        "\n",
        "    def total_price(self):\n",
        "        # Calculate total price based on price and quantity\n",
        "        return self.price * self.quantity\n",
        "\n",
        "# Usage Example\n",
        "product = Product(\"Laptop\", 1000, 5)\n",
        "\n",
        "# Output total price\n",
        "print(f\"Total price for {product.name}: ${product.total_price()}\")"
      ],
      "metadata": {
        "colab": {
          "base_uri": "https://localhost:8080/"
        },
        "id": "hg9uZIVy8b94",
        "outputId": "c7b6dfe5-681d-44b2-b30a-9e77612e18ab"
      },
      "execution_count": null,
      "outputs": [
        {
          "output_type": "stream",
          "name": "stdout",
          "text": [
            "Total price for Laptop: $5000\n"
          ]
        }
      ]
    },
    {
      "cell_type": "markdown",
      "source": [
        "**16. Create a class Animal with an abstract method sound(). Create two derived classes Cow and Sheep that\n",
        "implement the sound() method.**"
      ],
      "metadata": {
        "id": "IyjmfTOz8bzH"
      }
    },
    {
      "cell_type": "code",
      "source": [
        "from abc import ABC, abstractmethod\n",
        "\n",
        "# Abstract base class Animal\n",
        "class Animal(ABC):\n",
        "    @abstractmethod\n",
        "    def sound(self):\n",
        "        pass  # Abstract method, should be implemented by subclasses\n",
        "\n",
        "# Derived class Cow\n",
        "class Cow(Animal):\n",
        "    def sound(self):\n",
        "        return \"Moo\"\n",
        "\n",
        "# Derived class Sheep\n",
        "class Sheep(Animal):\n",
        "    def sound(self):\n",
        "        return \"Baa\"\n",
        "\n",
        "# Usage Example\n",
        "cow = Cow()\n",
        "sheep = Sheep()\n",
        "\n",
        "# Output sounds\n",
        "print(f\"Cow says: {cow.sound()}\")\n",
        "print(f\"Sheep says: {sheep.sound()}\")"
      ],
      "metadata": {
        "colab": {
          "base_uri": "https://localhost:8080/"
        },
        "id": "eJnKuocv8cTB",
        "outputId": "6368e6f1-16bb-40ed-9ee4-86c1b0c2c62c"
      },
      "execution_count": null,
      "outputs": [
        {
          "output_type": "stream",
          "name": "stdout",
          "text": [
            "Cow says: Moo\n",
            "Sheep says: Baa\n"
          ]
        }
      ]
    },
    {
      "cell_type": "markdown",
      "source": [
        "**17. Create a class Book with attributes title, author, and year_published. Add a method get_book_info() that\n",
        "returns a formatted string with the book's details.**"
      ],
      "metadata": {
        "id": "MwLg71jK8ceh"
      }
    },
    {
      "cell_type": "code",
      "source": [
        "class Book:\n",
        "    def __init__(self, title, author, year_published):\n",
        "        self.title = title\n",
        "        self.author = author\n",
        "        self.year_published = year_published\n",
        "\n",
        "    def get_book_info(self):\n",
        "        return f\"Title: {self.title}\\nAuthor: {self.author}\\nYear Published: {self.year_published}\"\n",
        "\n",
        "#EXAMPLE\n",
        "book1 = Book(\"The Great Gatsby\", \"F. Scott Fitzgerald\", 1925)\n",
        "print(book1.get_book_info())"
      ],
      "metadata": {
        "colab": {
          "base_uri": "https://localhost:8080/"
        },
        "id": "a15xweWC8cn3",
        "outputId": "93745616-ec73-4a78-804c-66768f59b3f4"
      },
      "execution_count": null,
      "outputs": [
        {
          "output_type": "stream",
          "name": "stdout",
          "text": [
            "Title: The Great Gatsby\n",
            "Author: F. Scott Fitzgerald\n",
            "Year Published: 1925\n"
          ]
        }
      ]
    },
    {
      "cell_type": "markdown",
      "source": [
        "**18. Create a class House with attributes address and price. Create a derived class Mansion that adds an\n",
        "attribute number_of_rooms.**"
      ],
      "metadata": {
        "id": "SUu7TA_QIDhI"
      }
    },
    {
      "cell_type": "code",
      "source": [
        "# Base class House\n",
        "class House:\n",
        "    def __init__(self, address, price):\n",
        "        self.address = address\n",
        "        self.price = price\n",
        "\n",
        "    def get_house_info(self):\n",
        "        return f\"Address: {self.address}\\nPrice: ${self.price}\"\n",
        "\n",
        "# Derived class Mansion\n",
        "class Mansion(House):\n",
        "    def __init__(self, address, price, number_of_rooms):\n",
        "        super().__init__(address, price)  # Call the parent class constructor\n",
        "        self.number_of_rooms = number_of_rooms\n",
        "\n",
        "    def get_mansion_info(self):\n",
        "        house_info = self.get_house_info()  # Get the house info from the parent class\n",
        "        return f\"{house_info}\\nNumber of Rooms: {self.number_of_rooms}\"\n",
        "\n",
        "#EXAMPLE\n",
        "mansion1 = Mansion(\"123 Luxury Ave\", 5000000, 10)\n",
        "print(mansion1.get_mansion_info())"
      ],
      "metadata": {
        "colab": {
          "base_uri": "https://localhost:8080/"
        },
        "id": "kVCt0ULpIEKn",
        "outputId": "0f838c4c-9fe2-4c5d-d92f-9e42b8b57e1d"
      },
      "execution_count": null,
      "outputs": [
        {
          "output_type": "stream",
          "name": "stdout",
          "text": [
            "Address: 123 Luxury Ave\n",
            "Price: $5000000\n",
            "Number of Rooms: 10\n"
          ]
        }
      ]
    }
  ]
}